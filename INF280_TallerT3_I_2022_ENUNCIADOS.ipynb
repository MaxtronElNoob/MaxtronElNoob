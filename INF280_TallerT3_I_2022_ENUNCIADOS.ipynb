{
  "nbformat": 4,
  "nbformat_minor": 0,
  "metadata": {
    "colab": {
      "name": "INF280_TallerT3_I_2022_ENUNCIADOS.ipynb",
      "provenance": [],
      "collapsed_sections": [],
      "include_colab_link": true
    },
    "kernelspec": {
      "name": "python3",
      "display_name": "Python 3"
    },
    "language_info": {
      "name": "python"
    }
  },
  "cells": [
    {
      "cell_type": "markdown",
      "metadata": {
        "id": "view-in-github",
        "colab_type": "text"
      },
      "source": [
        "<a href=\"https://colab.research.google.com/github/MaxtronElNoob/MaxtronElNoob/blob/main/INF280_TallerT3_I_2022_ENUNCIADOS.ipynb\" target=\"_parent\"><img src=\"https://colab.research.google.com/assets/colab-badge.svg\" alt=\"Open In Colab\"/></a>"
      ]
    },
    {
      "cell_type": "markdown",
      "source": [
        "# Taller T3 Pirámides Binomiales"
      ],
      "metadata": {
        "id": "is7NUHBQX6tm"
      }
    },
    {
      "cell_type": "markdown",
      "source": [
        "<table align='left'>\n",
        "<tr>\n",
        "<td><img src='https://bitcoinist.com/wp-content/uploads/2019/12/30-December-1-e1577702026209.jpg' width='850'/> </td>\n",
        "</tr>\n",
        "</table>\n"
      ],
      "metadata": {
        "id": "b3kVgbPhYKS6"
      }
    },
    {
      "cell_type": "markdown",
      "source": [
        "Imagine que el valor de cierta criptomoneda evoluciona con incrementos diarios independientes de manera que el $i$-ésimo día\n",
        "\n",
        "\\begin{eqnarray}\n",
        "Z_{i+1} &= \\left\\{ \\begin{array}{rl} \n",
        "2\\cdot Z_{i} & \\mbox{ con probabilidad} \\ p\\\\\n",
        "1/2 \\cdot Z_{i} & \\mbox{ con probabilidad} \\ 1-p\\\\\n",
        "\\end{array} \\right. \\ \\ \\ \\forall i=1,2,\\ldots\n",
        "\\end{eqnarray}"
      ],
      "metadata": {
        "id": "U7I0-QMUY2jm"
      }
    },
    {
      "cell_type": "markdown",
      "source": [
        "Si definimos $Y_i=\\log_2(Z_{i+1})$, lo anterior es equivalente a escribir"
      ],
      "metadata": {
        "id": "z1oec73_SLTn"
      }
    },
    {
      "cell_type": "markdown",
      "source": [
        "\\begin{eqnarray}\n",
        "Y_{i+1} & = Y_{i} + X_i \\ \\ \\ \\forall i=1,2,\\ldots\n",
        "\\end{eqnarray}"
      ],
      "metadata": {
        "id": "-1tcvzhxSWUI"
      }
    },
    {
      "cell_type": "markdown",
      "source": [
        "donde $X_i$ es una v.a. discreta de Rademacher (que toma el valor $1$ con probabilidad $p$ y el valor $-1$ con probabilidad $1-p$)."
      ],
      "metadata": {
        "id": "5PSi3JsKh3ec"
      }
    },
    {
      "cell_type": "markdown",
      "source": [
        "Suponga que valor actual de la moneda es $Z_0=1$ (de modo que $Y_0=0$)."
      ],
      "metadata": {
        "id": "t7vr_WnCj0LX"
      }
    },
    {
      "cell_type": "markdown",
      "source": [
        "# Actividades"
      ],
      "metadata": {
        "id": "SeayNWsykl_W"
      }
    },
    {
      "cell_type": "markdown",
      "source": [
        "\n",
        "1.   Determine los posibles valores de la moneda n días hacia adelante ($Z_n$) y su correspondiente f.d.p. \n",
        "\n",
        "2.   Compruebe el resultado anterior vía simulación para n=10 y p=3/5. ¿Cuál es el valor más probable de $Z_n$? ¿Es simétrica la distribución? ¿Qué sucede si p=1/2?\n",
        "\n",
        "3.   Construya un gráfico para el valor esperado y la varianza del valor que de la moneda durante los primeros 30 días. Compare lo que sucede con p=3/5 y p=1/2. ¿Qué observa? ¿Qué relación existe entre estos valores y los primeros momentos de $Y_n$? \n",
        "\n",
        "4.   Use la ley de los grandes números para los estimar los valores esperados y las varianzas de la pregunta anterior mediante simulación. ¿Obtiene buenas aproximaciones de los valores teóricos? ¿De qué depende?\n",
        "\n",
        "5.   Suponga que cuando vende una moneda debe pagar un impuesto de $I=1.35^n$ donde n es el número de días pasados desde la compra. Si p=3/5, ¿Cuál es la probabilidad de que pierda dinero vendiendo la moneda después del primer mes? ¿Cuál es el valor esperado de la utilidad neta obtenida en este caso? ¿Conviene comprar una moneda si se debe vender después del primer mes? Incluya en su respuesta tanto un razonamiento teórico como estimaciones obtenidas vía simulación. \n",
        "\n",
        "6.  Si p=1/2, determine la probabilidad de que durante las primeras dos semanas, se verifique una racha de 5 o más alzas consecutivas. \n",
        "\n",
        "7.  Si p=1/2, su amiga Fede le aconseja vender la moneda apenas se verifiquen $5$ alzas consecutivas. Determine la f.d.p. del tiempo que pasará hasta la venta si se usa esta estrategia. Verifique su resultado mediante simulación y use esta última para estimar también la utilidad neta obtenida. \n"
      ],
      "metadata": {
        "id": "rM1FrTW1kpcq"
      }
    },
    {
      "cell_type": "markdown",
      "source": [
        "# Integrantes\n",
        "\n",
        "En esta sección están los nombres, roles y videos de cada integrante:"
      ],
      "metadata": {
        "id": "nmlKDQB4ptqL"
      }
    },
    {
      "cell_type": "markdown",
      "source": [
        ":\n",
        "\n",
        "*   Alonso Herrera (202004577-1): https://drive.google.com/file/d/1mare00x7aVoO418r2znLAwIE762EvcEw/view?usp=sharing\n",
        "*   Nicolás Pizarro (202004682-4): https://youtu.be/EMGGftyN4cc\n",
        "*   Francisca González (202073626-k): https://drive.google.com/file/d/1d-a2hfasx9t4HtLPIgSpcQh2yiMZOtEy/view?usp=sharing\n",
        "\n"
      ],
      "metadata": {
        "id": "XB1aI7Ytp-Rg"
      }
    },
    {
      "cell_type": "markdown",
      "source": [
        "# Disclaimer\n",
        "\n",
        "La situación expuesta en este taller no tiene relación oficinal con ninguna criptomoneda y no representa consejo de inversión alguno."
      ],
      "metadata": {
        "id": "5xigZ1sb28-h"
      }
    },
    {
      "cell_type": "code",
      "source": [
        "#librerias\n",
        "import numpy as np\n",
        "import math\n",
        "import matplotlib.pylab as plt"
      ],
      "metadata": {
        "id": "TmIqXnZnnC5h"
      },
      "execution_count": null,
      "outputs": []
    },
    {
      "cell_type": "markdown",
      "source": [
        "# Pregunta 1: Determine los posibles valores de la moneda n días hacia adelante ($Z_n$) y su correspondiente f.d.p. "
      ],
      "metadata": {
        "id": "9O7HtocPt55O"
      }
    },
    {
      "cell_type": "markdown",
      "source": [
        "Se pide obtener el valor de $Z_n$ y su correspondiente f.d.p., para lo primero esquematizamos los valores desde el día 0 hasta el día 4 con un árbol de probabilidad, lo que resultó en lo siguiente:\n",
        "\n",
        "<table align='center'>\n",
        "<tr>\n",
        "<td><img src='https://cdn.discordapp.com/attachments/970506189202939964/970506210887471224/unknown.png' width='850'/> </td>\n",
        "</tr>\n",
        "</table>\n"
      ],
      "metadata": {
        "id": "4WI5IVp5uXVs"
      }
    },
    {
      "cell_type": "markdown",
      "source": [
        "Además, obtuvimos el árbol de probabilidad de $Y_n$\n",
        "\n",
        "<table align='center'>\n",
        "<tr>\n",
        "<td><img src='https://cdn.discordapp.com/attachments/970506189202939964/970506726027722782/unknown.png' width='850'/> </td>\n",
        "</tr>\n",
        "</table>"
      ],
      "metadata": {
        "id": "ux0ww0tHU-T2"
      }
    },
    {
      "cell_type": "markdown",
      "source": [
        "Con estos diagramas pudimos notar distintos patrones. En primer lugar, si expresamos los posibles valores de $Z_n$ en potencia de dos, en un día $n$ los posibles valores que tome son:\n",
        "\n",
        "\\begin{equation}\n",
        "    Z_n = \\{2^n, 2^{n - 2}, 2^{n - 4}, ..., 2^{4 - n}, 2^{2 - n}, 2^{-n}\\}\n",
        "\\end{equation}\n",
        "\n",
        "Debido a que notamos que los exponentes de los posibles valores difieren en 2 en el árbol de probabilidad de $Y_n$ desde $n$ hasta $-n$. Por otro lado, si tratamos de calcular la probabilidad de un posible valor en un día $n$, se obtiene:\n",
        "\n",
        "\\begin{equation}\n",
        "    P(Z_n) = p^{m}*(1 - p)^{r}\n",
        "\\end{equation}\n",
        "\n",
        "De esto pudimos notar que al sumar los exponentes se obtiene el número de día y al restarlos se obtiene el exponente del posible valor de $Z_n$ al expresarlo en potencia de dos. Lo anterior se resume en:\n",
        "\n",
        "\\begin{equation}\n",
        "    m + r = n \\qquad (1)\\\\\n",
        "    m - r = t \\qquad (2)\\\\\n",
        "    t = \\{n, n - 2, n - 4, ..., 4 - n, 2 - n, -n\\}\n",
        "\\end{equation}\n",
        "\n",
        "Si reescribimos la ecuación (2) como $m = t + r$ y reemplazamos en (1), tenemos que:\n",
        "\n",
        "\\begin{equation}\n",
        "    2r + t = n \\\\\n",
        "    r = \\frac{n - t}{2}\n",
        "\\end{equation}\n",
        "\n",
        "por lo que el valor de $m$ es:\n",
        "\n",
        "\\begin{equation}\n",
        "    m = \\frac{n + t}{2}\n",
        "\\end{equation}\n",
        "\n",
        "Por ende la probabilidad de $Z_n$ queda expresada de esta manera:\n",
        "\n",
        "\\begin{equation}\n",
        "    P(Z_n) = p^{\\frac{n + t}{2}}*(1 - p)^{\\frac{n - t}{2}}\n",
        "\\end{equation}\n",
        "\n",
        "Sin embargo, al recorrer los árboles de probabilidad, se puede llegar a un mismo valor en un día por distintos caminos que tienen la misma probabilidad, como por ejemplo para obtener 1 en el día 4, existen 6 posibles caminos para llegar a 1 que tienen la probabilidad $p^{2}*(1-p)^{2}$. Si aplicamos esto con cada valor, se obtiene este árbol de probabilidad de la cantidad de caminos:\n",
        "\n",
        "<table align='center'>\n",
        "<tr>\n",
        "<td><img src='https://cdn.discordapp.com/attachments/970506189202939964/970512061719257098/unknown.png' width='850'/> </td>\n",
        "</tr>\n",
        "</table>"
      ],
      "metadata": {
        "id": "TwNxfEakcHLI"
      }
    },
    {
      "cell_type": "markdown",
      "source": [
        "Este árbol se conoce como \"Triángulo de Pascal\", cuyos valores pueden expresarse como una combinatoria, que en este caso estarían en términos del número de día ($n$) y el valor del exponente $m$ que encontramos anteriormente ($\\frac{n+t}{2}$), el cual toma valores entre 0 y $n$. Por lo tanto, la probabilidad de que $Z_n$ tome un posible valor en un día $n$ es:\n",
        "\n",
        "\\begin{align*}\n",
        "    f(Z_n = 2^t) = \\binom{n}{\\frac{n + t}{2}} p^{\\frac{n + t}{2}} (1 - p)^{\\frac{n - t}{2}} \\qquad t = \\{n, n - 2, n - 4, ..., 4 - n, 2 - n, -n\\}\n",
        "\\end{align*}\n",
        "\n",
        "Lo cual corresponde a la f.d.p. de $Z_n$."
      ],
      "metadata": {
        "id": "qx7xCQbVVdN2"
      }
    },
    {
      "cell_type": "markdown",
      "source": [
        "# Pregunta 2: Compruebe el resultado anterior vía simulación para n=10 y p=3/5. ¿Cuál es el valor más probable de $Z_n$? ¿Es simétrica la distribución? ¿Qué sucede si p=1/2?"
      ],
      "metadata": {
        "id": "PcB2tYcFt_qI"
      }
    },
    {
      "cell_type": "markdown",
      "source": [
        "Primero realizamos una simulación para 10 días con probabilidad de 3/5, la cual se muestra en el siguiente código:"
      ],
      "metadata": {
        "id": "M3ita-VS_2tL"
      }
    },
    {
      "cell_type": "code",
      "source": [
        "#Variables iniciales\n",
        "simulaciones= 10**5\n",
        "dias = 10\n",
        "\n",
        "#exponentes\n",
        "resultados={}\n",
        "y=0\n",
        "for a in range(simulaciones):\n",
        "    y=0\n",
        "    for b in range(dias):\n",
        "        cambio= np.random.uniform(0,1)\n",
        "        if cambio <= 0.6:\n",
        "            y=y+1\n",
        "        else:\n",
        "            y=y-1\n",
        "    if y in resultados:\n",
        "        resultados[y] = resultados[y] +1\n",
        "    else:\n",
        "        resultados[y]=1\n",
        "resultados = {k: v for k , v in sorted (resultados.items())} #https://www.youtube.com/watch?v=6uih8-Cc7Cg\n",
        "print(resultados)\n",
        "print('\\n')\n",
        "\n",
        "#2^al exponente\n",
        "valores ={}\n",
        "for a in resultados:\n",
        "    valor=2**a\n",
        "    valores[valor]=resultados[a]\n",
        "\n",
        "print(valores)"
      ],
      "metadata": {
        "colab": {
          "base_uri": "https://localhost:8080/"
        },
        "id": "Yfyoce91_xJB",
        "outputId": "bbd41440-1c62-4674-8ae0-cef1af4fd30a"
      },
      "execution_count": null,
      "outputs": [
        {
          "output_type": "stream",
          "name": "stdout",
          "text": [
            "{-10: 7, -8: 154, -6: 1062, -4: 4201, -2: 11219, 0: 20003, 2: 25184, 4: 21479, 6: 12024, 8: 4137, 10: 530}\n",
            "\n",
            "\n",
            "{0.0009765625: 7, 0.00390625: 154, 0.015625: 1062, 0.0625: 4201, 0.25: 11219, 1: 20003, 4: 25184, 16: 21479, 64: 12024, 256: 4137, 1024: 530}\n"
          ]
        }
      ]
    },
    {
      "cell_type": "markdown",
      "source": [
        "Decidimos añadir un gráfico para analizar la simetría de la distribución. En este caso, se puede observar que la distribución se inclina hacia la derecha, por lo cual no es una distribución simétrica."
      ],
      "metadata": {
        "id": "pmhUjjOq2LJ4"
      }
    },
    {
      "cell_type": "code",
      "source": [
        "myList = resultados.items()\n",
        "myList = sorted(myList) \n",
        "x, y = zip(*myList) \n",
        "\n",
        "plt.plot(x, y)\n",
        "plt.xlabel(\"Exponentes\", size = 16)\n",
        "plt.ylabel(\"Número de veces que se repite el exponente\", size = 12)\n",
        "plt.show()"
      ],
      "metadata": {
        "id": "JSdCz0cPj2Be",
        "colab": {
          "base_uri": "https://localhost:8080/",
          "height": 311
        },
        "outputId": "01d384c3-e0bb-4837-939f-88abf853bede"
      },
      "execution_count": null,
      "outputs": [
        {
          "output_type": "display_data",
          "data": {
            "text/plain": [
              "<Figure size 432x288 with 1 Axes>"
            ],
            "image/png": "[encoded data removed]"
          },
          "metadata": {
            "needs_background": "light"
          }
        }
      ]
    },
    {
      "cell_type": "markdown",
      "source": [
        "Luego realizamos otra simulación para los 10 días pero con una probabilidad de 1/2."
      ],
      "metadata": {
        "id": "L5DUKrop2Nsh"
      }
    },
    {
      "cell_type": "code",
      "source": [
        "#Variables iniciales\n",
        "simulaciones= 10**5\n",
        "dias = 10\n",
        "\n",
        "#exponentes\n",
        "resultados={}\n",
        "y=0\n",
        "for a in range(simulaciones):\n",
        "    y=0\n",
        "    for b in range(dias):\n",
        "        cambio= np.random.uniform(0,1)\n",
        "        if cambio <= 0.5:\n",
        "            y=y+1\n",
        "        else:\n",
        "            y=y-1\n",
        "    if y in resultados:\n",
        "        resultados[y] = resultados[y] +1\n",
        "    else:\n",
        "        resultados[y]=1\n",
        "resultados = {k: v for k , v in sorted (resultados.items())} #https://www.youtube.com/watch?v=6uih8-Cc7Cg\n",
        "print(resultados)\n",
        "print('\\n')\n",
        "\n",
        "#2^al exponente\n",
        "valores ={}\n",
        "for a in resultados:\n",
        "    valor=2**a\n",
        "    valores[valor]=resultados[a]\n",
        "\n",
        "print(valores)"
      ],
      "metadata": {
        "colab": {
          "base_uri": "https://localhost:8080/"
        },
        "id": "M1GqR9I_23Tk",
        "outputId": "3427fa4a-3744-4d27-8521-364a34e5ffe4"
      },
      "execution_count": null,
      "outputs": [
        {
          "output_type": "stream",
          "name": "stdout",
          "text": [
            "{-10: 94, -8: 994, -6: 4371, -4: 11766, -2: 20641, 0: 24452, 2: 20474, 4: 11749, 6: 4408, 8: 946, 10: 105}\n",
            "\n",
            "\n",
            "{0.0009765625: 94, 0.00390625: 994, 0.015625: 4371, 0.0625: 11766, 0.25: 20641, 1: 24452, 4: 20474, 16: 11749, 64: 4408, 256: 946, 1024: 105}\n"
          ]
        }
      ]
    },
    {
      "cell_type": "markdown",
      "source": [
        "Agregamos su gráfico, donde se puede observar que la distribución está centrada, por lo que es simétrica."
      ],
      "metadata": {
        "id": "4UcABypozK08"
      }
    },
    {
      "cell_type": "code",
      "source": [
        "myList = resultados.items()\n",
        "myList = sorted(myList) \n",
        "x, y = zip(*myList) \n",
        "print(zip(*myList))\n",
        "\n",
        "plt.plot(x, y)\n",
        "plt.xlabel(\"Exponentes\", size = 16)\n",
        "plt.ylabel(\"Número de veces que se repite el exponente\", size = 12)\n",
        "plt.show()"
      ],
      "metadata": {
        "colab": {
          "base_uri": "https://localhost:8080/",
          "height": 328
        },
        "id": "5UA3G-7mzJbs",
        "outputId": "6ce80b8c-0f85-4193-b525-3aa6876334ee"
      },
      "execution_count": null,
      "outputs": [
        {
          "output_type": "stream",
          "name": "stdout",
          "text": [
            "<zip object at 0x7effc43e6140>\n"
          ]
        },
        {
          "output_type": "display_data",
          "data": {
            "text/plain": [
              "<Figure size 432x288 with 1 Axes>"
            ],
            "image/png": "[encoded data removed]"
          },
          "metadata": {
            "needs_background": "light"
          }
        }
      ]
    },
    {
      "cell_type": "markdown",
      "source": [
        "# Pregunta 3: Construya un gráfico para el valor esperado y la varianza del valor que de la moneda durante los primeros 30 días. Compare lo que sucede con p=3/5 y p=1/2. ¿Qué observa? ¿Qué relación existe entre estos valores y los primeros momentos de $Y_n$? "
      ],
      "metadata": {
        "id": "3ZoE_kIIuBdV"
      }
    },
    {
      "cell_type": "code",
      "source": [
        "#Variables iniciales\n",
        "simulaciones= 10**5\n",
        "dias = 30\n",
        "import numpy as np\n",
        "#exponentes\n",
        "resul_dia=[]\n",
        "resultados_1=[]\n",
        "y=0\n",
        "for a in range(dias):\n",
        "    y=0\n",
        "    for b in range(simulaciones):\n",
        "        cambio= np.random.uniform(0,1)\n",
        "        if cambio <= 0.6:\n",
        "            y=y+1\n",
        "        else:\n",
        "            y=y-1\n",
        "        aux = 2**y\n",
        "        resul_dia.append(aux)\n",
        "    print(resul_dia)"
      ],
      "metadata": {
        "id": "ElM81ZX1j2dZ"
      },
      "execution_count": null,
      "outputs": []
    },
    {
      "cell_type": "markdown",
      "source": [
        "# Pregunta 4: Use la ley de los grandes números para los estimar los valores esperados y las varianzas de la pregunta anterior mediante simulación. ¿Obtiene buenas aproximaciones de los valores teóricos? ¿De qué depende?\n"
      ],
      "metadata": {
        "id": "_H2DSpgyuDSd"
      }
    },
    {
      "cell_type": "code",
      "source": [
        "#Variables iniciales\n",
        "simulaciones= 10**5\n",
        "dias = 30\n",
        "\n",
        "def valor_esperado(dic):\n",
        "    sum=0\n",
        "    for valor in dic.keys():\n",
        "        sum += valor*(dic[valor]/simulaciones)\n",
        "    return sum\n",
        "  \n",
        "def promedio_ponderado(dic):\n",
        "    sum=0\n",
        "    for valor in dic.keys():\n",
        "        sum += dic[valor]*valor\n",
        "    return (sum/simulaciones)\n",
        "\n",
        "def var(dic):\n",
        "    prom = promedio_ponderado(dic)\n",
        "    sum=0\n",
        "    for valor in dic.keys():\n",
        "        sum += (dic[valor] - prom)**2\n",
        "    return (sum/simulaciones)\n",
        "\n",
        "#exponentes\n",
        "resultados={}\n",
        "y=0\n",
        "for a in range(simulaciones):\n",
        "    y=0\n",
        "    for b in range(dias+1):\n",
        "        cambio= np.random.uniform(0,1)\n",
        "        if cambio <= 0.6:\n",
        "            y=y+1\n",
        "        else:\n",
        "            y=y-1\n",
        "    if y in resultados:\n",
        "        resultados[y] = resultados[y] +1\n",
        "    else:\n",
        "        resultados[y]=1\n",
        "resultados = {k: v for k , v in sorted (resultados.items())} #https://www.youtube.com/watch?v=6uih8-Cc7Cg\n",
        "\n",
        "#2^al exponente\n",
        "valores ={}\n",
        "for a in resultados:\n",
        "    valor=2**a\n",
        "    valores[valor]=resultados[a]\n",
        "\n",
        "#exponentes\n",
        "resul_dia=[]\n",
        "resultados_1=[]\n",
        "y=0\n",
        "for a in range(dias):\n",
        "    y=0\n",
        "    for b in range(simulaciones):\n",
        "        cambio= np.random.uniform(0,1)\n",
        "        if cambio <= 0.6:\n",
        "            y=y+1\n",
        "        else:\n",
        "            y=y-1\n",
        "        aux = 2**y\n",
        "        resul_dia.append(aux)\n",
        "\n",
        "print(var(valores))\n",
        "print(valor_esperado(valores))"
      ],
      "metadata": {
        "id": "QIiRtr0Cj227"
      },
      "execution_count": null,
      "outputs": []
    },
    {
      "cell_type": "markdown",
      "source": [
        "# Pregunta 5: Suponga que cuando vende una moneda debe pagar un impuesto de $I=1.35^n$ donde n es el número de días pasados desde la compra. Si p=3/5, ¿Cuál es la probabilidad de que pierda dinero vendiendo la moneda después del primer mes? ¿Cuál es el valor esperado de la utilidad neta obtenida en este caso? ¿Conviene comprar una moneda si se debe vender después del primer mes? Incluya en su respuesta tanto un razonamiento teórico como estimaciones obtenidas vía simulación. "
      ],
      "metadata": {
        "id": "_0Ycjdf8uFvV"
      }
    },
    {
      "cell_type": "markdown",
      "source": [
        "Primero calculamos la probabilidad de pérdida basándonos en que la pérdida se cumplirá siempre y cuando el valor de la criptomoneda sea menor al valor del impuesto en el día 30.\n",
        "\n",
        "\n",
        "\n"
      ],
      "metadata": {
        "id": "FGvhm-ON2fj5"
      }
    },
    {
      "cell_type": "code",
      "source": [
        "def binomial(x, n, p):\n",
        "    factoriales=math.factorial(n)/(math.factorial(x)*math.factorial(n-x))\n",
        "    probabilidades=p**x * (1-p)**(n-x)\n",
        "    return factoriales*probabilidades\n",
        "\n",
        "def fdp_binomial(n,p):\n",
        "    resultado={}\n",
        "    for x in range(-(n),n+1,2):\n",
        "        resultado[2**x] = binomial(int((x+n)/2),n,p)\n",
        "    return resultado\n",
        "valores = fdp_binomial(30,3/5)\n",
        "print(valores)\n",
        "\n",
        "perdidas = 0\n",
        "for valor in valores.keys():\n",
        "    if valor < 1.35**30:\n",
        "        perdidas += valores[valor]\n",
        "print(\"Probabilidad teórica (en porcentaje): \"+str(round(perdidas*100,2))+\"%\")"
      ],
      "metadata": {
        "id": "gvTqMOPp1sYg",
        "colab": {
          "base_uri": "https://localhost:8080/"
        },
        "outputId": "5495adb3-4e8f-455c-c206-5e2605955a1c"
      },
      "execution_count": null,
      "outputs": [
        {
          "output_type": "stream",
          "name": "stdout",
          "text": [
            "{9.313225746154785e-10: 1.1529215046068489e-12, 3.725290298461914e-09: 5.1881467707308196e-11, 1.4901161193847656e-08: 1.1284219226339532e-09, 5.960464477539063e-08: 1.579790691687534e-08, 2.384185791015625e-07: 1.5995380753336285e-07, 9.5367431640625e-07: 1.24763969876023e-06, 3.814697265625e-06: 7.797748117251436e-06, 1.52587890625e-05: 4.0102704603007386e-05, 6.103515625e-05: 0.00017294291360046932, 0.000244140625: 0.0006341240165350542, 0.0009765625: 0.00199749065208542, 0.00390625: 0.005447701778414782, 0.015625: 0.012938291723735108, 0.0625: 0.026871836656988297, 0.25: 0.0489451310538001, 1: 0.07831220968608017, 4: 0.11012654487105022, 16: 0.13603867307600317, 64: 0.1473752291656701, 256: 0.13961863815695064, 1024: 0.11518537647948426, 4096: 0.08227526891391732, 16384: 0.05048709683354017, 65536: 0.02634109400010791, 262144: 0.01152422862504721, 1048576: 0.004148722305016995, 4194304: 0.0011967468187549023, 16777216: 0.0002659437375010894, 67108864: 4.2740957812675074e-05, 268435456: 4.4214783944146626e-06, 1073741824: 2.2107391972073312e-07}\n",
            "Probabilidad teórica (en porcentaje): 90.6%\n"
          ]
        }
      ]
    },
    {
      "cell_type": "markdown",
      "source": [
        "Luego realizamos una simulación para obtener la probabilidad anterior junto el valor esperado de la utilidad neta."
      ],
      "metadata": {
        "id": "01162Iu_2f-Q"
      }
    },
    {
      "cell_type": "code",
      "source": [
        "#Variables iniciales\n",
        "simulaciones= 10**5\n",
        "dias = 30\n",
        "\n",
        "#exponentes\n",
        "resultados={}\n",
        "y=0\n",
        "for a in range(simulaciones):\n",
        "    y=0\n",
        "    for b in range(dias):\n",
        "        cambio= np.random.uniform(0,1)\n",
        "        if cambio <= 0.6:\n",
        "            y=y+1\n",
        "        else:\n",
        "            y=y-1\n",
        "    if y in resultados:\n",
        "        resultados[y] = resultados[y] +1\n",
        "    else:\n",
        "        resultados[y]=1\n",
        "resultados = {k: v for k , v in sorted (resultados.items())} #https://www.youtube.com/watch?v=6uih8-Cc7Cg\n",
        "\n",
        "print(resultados)\n",
        "print('\\n')\n",
        "#2^al exponente\n",
        "valores ={}\n",
        "for a in resultados.keys():\n",
        "    valor = (2**a) - (1.35**dias)\n",
        "    valores[valor] = resultados[a]\n",
        "\n",
        "print(valores)\n",
        "print('\\n')\n",
        "\n",
        "perdidas = 0\n",
        "for valor in valores.keys():\n",
        "    if valor < 0:\n",
        "        perdidas += valores[valor]\n",
        "print(\"Probabilidad (en porcentaje): \"+str(round(perdidas/simulaciones*100,2))+\"%\")\n",
        "\n",
        "def valor_esperado(dic):\n",
        "    sum=0\n",
        "    for valor in dic.keys():\n",
        "        sum += (valor)*(dic[valor]/simulaciones)\n",
        "    return sum\n",
        "\n",
        "print(\"Valor esperado de la utilidad neta:\", round(valor_esperado(valores),2))"
      ],
      "metadata": {
        "id": "IqZYei1Gj3bT",
        "colab": {
          "base_uri": "https://localhost:8080/"
        },
        "outputId": "96ea00dc-67a4-45e5-8afa-c7ea4e402d81"
      },
      "execution_count": null,
      "outputs": [
        {
          "output_type": "stream",
          "name": "stdout",
          "text": [
            "{-16: 1, -14: 14, -12: 65, -10: 214, -8: 511, -6: 1333, -4: 2639, -2: 4944, 0: 7781, 2: 11068, 4: 13608, 6: 14929, 8: 13810, 10: 11513, 12: 8140, 14: 5101, 16: 2599, 18: 1151, 20: 410, 22: 140, 24: 26, 26: 3}\n",
            "\n",
            "\n",
            "{-8128.5494861227735: 1, -8128.549440346406: 14, -8128.549257240938: 65, -8128.548524819063: 214, -8128.545595131563: 511, -8128.533876381563: 1333, -8128.487001381563: 2639, -8128.299501381563: 4944, -8127.549501381563: 7781, -8124.549501381563: 11068, -8112.549501381563: 13608, -8064.549501381563: 14929, -7872.549501381563: 13810, -7104.549501381563: 11513, -4032.5495013815625: 8140, 8255.450498618437: 5101, 57407.45049861844: 2599, 254015.45049861845: 1151, 1040447.4504986184: 410, 4186175.4504986187: 140, 16769087.450498618: 26, 67100735.45049862: 3}\n",
            "\n",
            "\n",
            "Probabilidad (en porcentaje): 90.57%\n",
            "Valor esperado de la utilidad neta: 14473.21\n"
          ]
        }
      ]
    },
    {
      "cell_type": "markdown",
      "source": [
        "Se puede apreciar que tanto en la teoría como en la simulación, la probabilidad de pérdida es 90,6% aproximadamente, una probabilidad bastante grande que implica que es muchísimo más probable perder dinero al vender la criptomoneda luego del primer mes.\n",
        "\n",
        "Por lo tanto, decidimos que no es conveniente vender la criptomoneda luego del primer mes, aunque el valor esperado de la utilidad neta sea mayor al valor del impuesto. Esto se puede explicar debido a la cantidad inmensa de posibles valores que puede tomar la criptomoneda en el día 30, siendo $2^{30}$ valores, esto provoca una grande diferencia entre los valores máximos de la criptomoneda y los valores menores al valor del impuesto, que corresponden al 90,6% de los valores, mientras el porcentaje restante corresponde a los valores mayores al impuesto. En otras palabras, la distribución no es simétrica y está inclinada hacia la izquierda."
      ],
      "metadata": {
        "id": "GHqMryWeq5Ga"
      }
    },
    {
      "cell_type": "markdown",
      "source": [
        "# Pregunta 6: Si p=1/2, determine la probabilidad de que durante las primeras dos semanas, se verifique una racha de 5 o más alzas consecutivas. "
      ],
      "metadata": {
        "id": "87x_HhyKuH8E"
      }
    },
    {
      "cell_type": "markdown",
      "source": [
        "Para averiguar la probabilidad en esta pregunta, decidimos utilizar una simulación que, basada en la ley de los grandes números, nos entregará un valor muy cercano a lo que sería su valor teórico."
      ],
      "metadata": {
        "id": "rI3R0B9_tTyo"
      }
    },
    {
      "cell_type": "code",
      "source": [
        "#Variables iniciales\n",
        "simulaciones= 10**5\n",
        "dias = 14\n",
        "\n",
        "#simulacion\n",
        "resultado=0\n",
        "for a in range(simulaciones):\n",
        "    count=0\n",
        "    for b in range(dias):\n",
        "        cambio= np.random.uniform(0,1)\n",
        "        if cambio <= 0.5:\n",
        "            count+=1\n",
        "        else:\n",
        "            count=0\n",
        "    if 5 <= count:\n",
        "        resultado+=1\n",
        "\n",
        "print(\"Probabilidad de 5 o más alzas consecutivas en dos semanas: \"+str(round((resultado/simulaciones)*100,2))+\"%\")"
      ],
      "metadata": {
        "id": "3COn8OrHj344",
        "colab": {
          "base_uri": "https://localhost:8080/"
        },
        "outputId": "38c0ed99-efc4-4c03-aa56-6061c54a1fbf"
      },
      "execution_count": null,
      "outputs": [
        {
          "output_type": "stream",
          "name": "stdout",
          "text": [
            "Probabilidad de 5 o más alzas consecutivas en dos semanas: 3.06%\n"
          ]
        }
      ]
    },
    {
      "cell_type": "markdown",
      "source": [
        "La probabilidad de obtener 5 o más alzas consecutivas según la simulación es de 3% aproximadamente, una probabilidad bastante baja que implica que hiciste una baja probabilidad de conseguir 5 o más alzas consecutivas."
      ],
      "metadata": {
        "id": "1Dt3_vUttywP"
      }
    },
    {
      "cell_type": "markdown",
      "source": [
        "# Pregunta 7: Si p=1/2, su amiga Fede le aconseja vender la moneda apenas se verifiquen $5$ alzas consecutivas. Determine la f.d.p. del tiempo que pasará hasta la venta si se usa esta estrategia. Verifique su resultado mediante simulación y use esta última para estimar también la utilidad neta obtenida. "
      ],
      "metadata": {
        "id": "rz4GzchQuIAk"
      }
    },
    {
      "cell_type": "code",
      "source": [
        "#Variables iniciales\n",
        "simulaciones= 10**5\n",
        "\n",
        "#exponentes\n",
        "resultados={}\n",
        "dias={}\n",
        "for a in range(simulaciones):\n",
        "    count = 0\n",
        "    y=0\n",
        "    dia=0\n",
        "    while 5 > count:\n",
        "        dia+=1\n",
        "        if np.random.uniform(0,1) <= 0.6:\n",
        "            count+=1\n",
        "            y+=1\n",
        "        else:\n",
        "            count = 0\n",
        "            y-=1\n",
        "    precio= (2**y) - (1.35**dia)\n",
        "    if dia in dias:\n",
        "        dias[dia] = dias[dia] +1\n",
        "    else:\n",
        "        dias[dia]=1\n",
        "    if precio in resultados:\n",
        "        resultados[precio] = resultados[precio] +1\n",
        "    else:\n",
        "        resultados[precio]=1\n",
        "\n",
        "for dia in dias.keys():\n",
        "    dias[dia]=dias[dia]/simulaciones\n",
        "\n",
        "def valor_esperado(dic):\n",
        "    sum=0\n",
        "    for valor in dic.keys():\n",
        "        sum += valor*(dic[valor]/simulaciones)\n",
        "    return sum\n",
        "\n",
        "myList = dias.items()\n",
        "myList = sorted(myList)\n",
        "x, y = zip(*myList)\n",
        "plt.plot(x, y)\n",
        "plt.xlabel(\"Cantidad de días\", size = 16)\n",
        "plt.ylabel(\"Probabilidad de 5 alzas\", size = 16)\n",
        "plt.show()"
      ],
      "metadata": {
        "id": "q2DqkLl-j4WL",
        "colab": {
          "base_uri": "https://localhost:8080/",
          "height": 284
        },
        "outputId": "aca5aa3c-71fa-4e40-dde8-932d6ee78513"
      },
      "execution_count": null,
      "outputs": [
        {
          "output_type": "display_data",
          "data": {
            "text/plain": [
              "<Figure size 432x288 with 1 Axes>"
            ],
            "image/png": "[encoded data removed]"
          },
          "metadata": {
            "needs_background": "light"
          }
        }
      ]
    }
  ]
}