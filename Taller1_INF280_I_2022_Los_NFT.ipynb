{
  "cells": [
    {
      "cell_type": "markdown",
      "metadata": {
        "id": "view-in-github",
        "colab_type": "text"
      },
      "source": [
        "<a href=\"https://colab.research.google.com/github/MaxtronElNoob/MaxtronElNoob/blob/main/Taller1_INF280_I_2022_Los_NFT.ipynb\" target=\"_parent\"><img src=\"https://colab.research.google.com/assets/colab-badge.svg\" alt=\"Open In Colab\"/></a>"
      ]
    },
    {
      "cell_type": "markdown",
      "metadata": {
        "id": "jb5SMAg-qMNk"
      },
      "source": [
        "# Taller 1\n",
        "\n",
        "\n"
      ]
    },
    {
      "cell_type": "markdown",
      "metadata": {
        "id": "8-1s6uhO2334"
      },
      "source": [
        "\n",
        "<table align='left'>\n",
        "<tr>\n",
        "<td><img src='https://www.hydro.com/globalassets/08-about-hydro/hydro-worldwide/netherlands/pp-tulips.jpg' width='900'/> </td>\n",
        "</tr>\n",
        "</table>\n"
      ]
    },
    {
      "cell_type": "markdown",
      "metadata": {
        "id": "IvUTj_dgEGhX"
      },
      "source": [
        "## Objetivos de aprendizaje\n",
        "Al final de este taller el/la alumno/a sabrá:\n",
        "\n",
        "> * Distinguir las funciones de las principales librerías en Python para el manejo y análisis exploratorio de datos.\n",
        "> * Aplicar técnicas de visualización para generar gráficos que le permitan llegar a conclusiones descriptivas acerca de una muestra.\n",
        "> * Obtener estadísticas de tendencia y dispersión univariadas sobre las variables presentes en la muestra.\n",
        "> * Aplicar transformaciones sobre conjuntos de datos que le permitan, posteriormente, preparár los datos de la muestra para realizar un proceso de modelamiento.\n",
        "\n"
      ]
    },
    {
      "cell_type": "markdown",
      "metadata": {
        "id": "ITug4mL0DmRD"
      },
      "source": [
        "## Datos\n",
        "\n",
        "En este taller se utilizará el dataset `Energy consumption of the Netherlands`, disponible libremente en [Kaggle](https://www.kaggle.com/lucabasa/dutch-energy). Este dataset contiene información histórica sobre la red de energía, manejada por distintas compañías en los Paises Bajos para distintas áreas agregadas por el código postal. Vale la pena notar que, como se indica en la página del dataset, el mercado es no competitivo, es decir, solo una compañía es la encargada de entregar servicios a un determinado sector (descrito por el código postal), lo que implica que no hay fuga de clientes de una compañía a otra a través de los años.\n",
        "\n",
        "En la carpeta entregada para este taller se muestran dos sub-carpetas:\n",
        "\n",
        "> - **Electricity:** Contiene varios archivos en formato csv con un nombre que sigue la sintáxis:`<nombreEmpresa>_electricity_<año>.csv`, donde `nombreEmpresa` es el nombre de la empresa proveedora de electricidad.\n",
        "\n",
        "\n",
        "> - **Gas:** Contiene varios archivos en formato csv con un nombre que sigue la sintáxis:`<nombreEmpresa>_gas_<año>.csv`, donde `nombreEmpresa` es el nombre de la empresa proveedora de gas.\n",
        "\n",
        "Con respecto a las variables medidas, se debe notar que slgunas empresas proveedoras miden algunas características adicionales, para efectos de este estudio se le sugiere conservar las variables comunes a todas las empresas:\n",
        "\n",
        "- `net_manager`: Código del administrador regional de la red o nombre del mismo.\n",
        "- `purchase_area`: Código del área de donde es comprada la energía.\n",
        "- `street`: Nombre de la calle de las viviendas registradas.\n",
        "- `zipcode_from`: Código postal _\"inicial\"_ que define la zona (junto con `zipcode_to`) resumida en el registro.\n",
        "- `zipcode_to`: Código postal _\"final\"_ que define la zona (junto con `zipcode_from`) resumida en el registro.\n",
        "- `city`: Ciudad de las viviendas.\n",
        "- `num_connections`: Número de conexiones en el rango de los códigos postales.\n",
        "- `delivery_perc`: Porcentaje del consumo neto de electricidad o gas. Mientras más bajo significa que hubo mayor retorno de energía a la red, por ejemplo, mediante paneles solares.\n",
        "- `perc_of_active_connections`: Procentaje de conexiones activas en el rango definido por los códigos postales.\n",
        "- `type_conn_perc`: Porcentaje del principal tipo de conexión en el rango definido por los códigos potales, es decir, es el porcentaje del que corresponde el tipo de conexión que es moda dentro del espacio muestreado, con respecto a todos los tipos de conexiones de esa misma zona.\n",
        "- `type_of_connection`: Principal tipo de conexión en la zona definida por los rangos de código postal.\n",
        "- `annual_consume`: Consumo anual extraído de la red, en $kW/h$ (kilowatt por hora) para electricitdad y $m^3$ para gas.\n",
        "\n"
      ]
    },
    {
      "cell_type": "code",
      "execution_count": null,
      "metadata": {
        "id": "ifA4VI_k0MKP",
        "outputId": "c5ece3a3-ab11-492d-9158-287f5e1790ad",
        "colab": {
          "base_uri": "https://localhost:8080/"
        }
      },
      "outputs": [
        {
          "metadata": {
            "tags": null
          },
          "name": "stdout",
          "output_type": "stream",
          "text": [
            "URL transformed to HTTPS due to an HSTS policy\n",
            "--2022-03-31 09:24:45--  https://www.inf.utfsm.cl/~jnancu/netherlands-energy.zip\n",
            "Resolving www.inf.utfsm.cl (www.inf.utfsm.cl)... 200.1.19.11, 2800:270:c::11\n",
            "Connecting to www.inf.utfsm.cl (www.inf.utfsm.cl)|200.1.19.11|:443... connected.\n",
            "HTTP request sent, awaiting response... 200 OK\n",
            "Length: 144860623 (138M) [application/zip]\n",
            "Saving to: ‘netherlands-energy.zip.2’\n",
            "\n",
            "netherlands-energy. 100%[===================>] 138.15M  22.0MB/s    in 7.2s    \n",
            "\n",
            "2022-03-31 09:24:53 (19.3 MB/s) - ‘netherlands-energy.zip.2’ saved [144860623/144860623]\n",
            "\n",
            "Archive:  netherlands-energy.zip\n",
            "replace netherlands-energy/.DS_Store? [y]es, [n]o, [A]ll, [N]one, [r]ename: "
          ]
        }
      ],
      "source": [
        "!wget www.inf.utfsm.cl/~jnancu/netherlands-energy.zip \n",
        "!unzip netherlands-energy.zip "
      ]
    },
    {
      "cell_type": "code",
      "execution_count": null,
      "metadata": {
        "id": "_B9ZLgzD0bi1"
      },
      "outputs": [],
      "source": [
        "BASE_DATA_PATH = 'netherlands-energy' "
      ]
    },
    {
      "cell_type": "code",
      "execution_count": null,
      "metadata": {
        "colab": {
          "base_uri": "https://localhost:8080/"
        },
        "id": "O-90m5FF1PER",
        "outputId": "9bfe338b-b8c9-4a71-f1fd-b8344df848d0"
      },
      "outputs": [
        {
          "output_type": "stream",
          "name": "stdout",
          "text": [
            "'Electricity Corrected'  'Gas Corrected'\n"
          ]
        }
      ],
      "source": [
        "!ls 'netherlands-energy' "
      ]
    },
    {
      "cell_type": "markdown",
      "metadata": {
        "id": "7zq2wj7NN6D3"
      },
      "source": [
        "Como ayuda, el código de más abajo carga todos los archivos csv en un único dataframe conservando la información del año."
      ]
    },
    {
      "cell_type": "code",
      "execution_count": null,
      "metadata": {
        "id": "XG5_mr0jN6Vg"
      },
      "outputs": [],
      "source": [
        "import pandas as pd\n",
        "import numpy as np\n",
        "import matplotlib.pyplot as plt\n",
        "import seaborn as sn\n",
        "from glob import glob\n",
        "import re\n",
        "\n",
        "plt.rcParams['figure.figsize'] = (15,10)\n",
        "\n",
        "selected_cols = [\"net_manager\" ,\"purchase_area\", \"street\", \"zipcode_from\", \"zipcode_to\", \"city\", \"num_connections\", \"delivery_perc\", \"perc_of_active_connections\",\n",
        "                 \"type_conn_perc\", \"type_of_connection\", \"annual_consume\", \"year\"]\n",
        "                 \n",
        "# Si no han tenido mucha experiencia con comprensiones de lista probablemente l@s alumn@s opten por ciclos simples\n",
        "\n",
        "# Electricity\n",
        "list_dfs_electricity = []\n",
        "for file_path in glob(f'{BASE_DATA_PATH}/Electricity Corrected/*.csv'):\n",
        "  yr = file_path.split('_')[-1].split('.')[0]\n",
        "  if '0101' in yr:\n",
        "    yr = yr.replace('0101', '')\n",
        "  this_df = pd.read_csv(file_path)\n",
        "  this_df['year'] = int(yr)\n",
        "  list_dfs_electricity.append(this_df)\n",
        "\n",
        "df_electricity = pd.concat(list_dfs_electricity)\n",
        "df_electricity = df_electricity[selected_cols]\n",
        "\n",
        "# Gas\n",
        "list_dfs_gas = []\n",
        "for file_path in glob(f'{BASE_DATA_PATH}/Gas Corrected/*.csv'):\n",
        "  yr = file_path.split('_')[-1].split('.')[0]\n",
        "  if '0101' in yr:\n",
        "    yr = yr.replace('0101', '')\n",
        "  this_df = pd.read_csv(file_path)\n",
        "  this_df['year'] = int(yr)\n",
        "  list_dfs_gas.append(this_df)\n",
        "\n",
        "df_gas = pd.concat(list_dfs_gas)\n",
        "df_gas = df_gas[selected_cols]\n"
      ]
    },
    {
      "cell_type": "code",
      "execution_count": null,
      "metadata": {
        "id": "tuNDCt-14L3h",
        "colab": {
          "base_uri": "https://localhost:8080/"
        },
        "outputId": "0f262a88-06a6-4ab2-ced8-e8159f81063f"
      },
      "outputs": [
        {
          "metadata": {
            "tags": null
          },
          "name": "stderr",
          "output_type": "stream",
          "text": [
            "/usr/local/lib/python3.7/dist-packages/ipykernel_launcher.py:3: SettingWithCopyWarning: \n",
            "A value is trying to be set on a copy of a slice from a DataFrame.\n",
            "Try using .loc[row_indexer,col_indexer] = value instead\n",
            "\n",
            "See the caveats in the documentation: https://pandas.pydata.org/pandas-docs/stable/user_guide/indexing.html#returning-a-view-versus-a-copy\n",
            "  This is separate from the ipykernel package so we can avoid doing imports until\n",
            "/usr/local/lib/python3.7/dist-packages/ipykernel_launcher.py:4: SettingWithCopyWarning: \n",
            "A value is trying to be set on a copy of a slice from a DataFrame.\n",
            "Try using .loc[row_indexer,col_indexer] = value instead\n",
            "\n",
            "See the caveats in the documentation: https://pandas.pydata.org/pandas-docs/stable/user_guide/indexing.html#returning-a-view-versus-a-copy\n",
            "  after removing the cwd from sys.path.\n"
          ]
        }
      ],
      "source": [
        "df_electricity['net_annual_cons'] = df_electricity['annual_consume'] * df_electricity['delivery_perc'] / 100\n",
        "df_electricity['self_production'] = df_electricity['annual_consume'] - df_electricity['net_annual_cons']\n",
        "df_gas['net_annual_cons'] = df_gas['annual_consume'] * df_gas['delivery_perc'] / 100\n",
        "df_gas['self_production'] = df_gas['annual_consume'] - df_gas['net_annual_cons']\n",
        "\n",
        "df_electricity['consume_per_conn'] = df_electricity['annual_consume'] / (df_electricity['num_connections'] * df_electricity['perc_of_active_connections'] / 100)\n",
        "df_electricity.loc[df_electricity['consume_per_conn'] == np.inf, 'consume_per_conn'] = 0\n",
        "df_gas['consume_per_conn'] = df_gas['annual_consume'] / (df_gas['num_connections'] * df_gas['perc_of_active_connections'] / 100)\n",
        "df_gas.loc[df_gas['consume_per_conn'] == np.inf, 'consume_per_conn'] = 0\n",
        "\n"
      ]
    },
    {
      "cell_type": "markdown",
      "metadata": {
        "id": "hXtLtz8iOCDW"
      },
      "source": [
        "Crearemos dos variables interesantes para análisis:\n",
        "\n",
        "*   `self_production`: cantidad de energía autoproducida por los hogares (a través por ejemplo de paneles solares).\n",
        "*   `consume_per_conn`: consumo medio de energía por conexión en una determinada zona.\n",
        "\n"
      ]
    },
    {
      "cell_type": "markdown",
      "metadata": {
        "id": "-mzJ55DSDmdr"
      },
      "source": [
        "## Problema de Estudio\n",
        "Usted trabaja entregando servicios de consultoría y su actual cliente resulta ser una firma de inversionistas quienes están interesados en evaluar el desempeño del mercado de la energía eléctrica y de gas en los Países Bajos. La firma de inversionistas debe decidir si realizar una inversión y requiere por lo tanto conocer el estado del mercado de la energía en este país. Le encargan a usted la tarea de estudiarlo a partir de la muestra entregada en la sección anterior.\n",
        "\n",
        "Para efectos de este estudio escoja un tipo de energía a estudiar y responda a las inquietudes de los clientes. Específicamente su cliente necesita alcarar al menos los siguientes puntos:\n",
        "\n",
        "\n"
      ]
    },
    {
      "cell_type": "markdown",
      "metadata": {
        "id": "A0okN4L-du06"
      },
      "source": [
        "## Requerimientos del cliente (10 pts. c/u)\n",
        "\n",
        "1.  ¿Cuáles son las 10 ciudades que consumieron más energía eléctrica el 2020? ¿Son las mismas 10 que consumieron una mayor cantidad anual de gas? Entregue estadísticas y un gráfico apropiado para apoyar su respuesta. ¿Tiene sentido lo que observa?\n",
        "\n",
        "2.  ¿Cuál es el grado de acaparamiento que se observa en el mercado eléctrico nacional durante 2020? ¿En el mercado del gas? Responda analizando el número de conexiones por proveedor y la energía consumida por esas conexiones. Entregue medidas de tendencia y un gráfico apropiado para apoyar su respuesta.\n",
        "\n",
        "3. ¿Cuánta energía consumió una conexión a la red durante 2020? Responda construyendo un histograma que muestre cómo se distribuye la cantidad de energía por conexión durante 2020. Describa el histograma en términos de modas, simetría, y sesgo. Entregue además estadísticas de tendencia y dispersión. Comente.\n",
        "\n",
        "4. Considere las 3 ciudades con más conexiones y las 3 ciudades con menos conexiones durante 2020. Compare el consumo por conexión de esas 6 ciudades. ¿Depende esta variable del tamaño de la ciudad? ¿Existen en estas ciudades zonas con consumo inusualmente pequeño o inusualmente grande por conexión?\n",
        "\n",
        "5. ¿Cuánta energía auto-generaron los hogares durante 2020? Responda construyendo y describiendo un gráfico que muestre cómo se distribuye la cantidad de energía total consumida por los hogares durante 2020, la cantidad de energía autogenerada ese año, y la fracción de la energía consumida que es autogenerada por los hogares. Comente. \n",
        "\n",
        "6. Considere las 3 ciudades con más conexiones y las 3 ciudades con menos conexiones durante 2020. Compare la distribución de la cantidad de energía auto-generada en esas 6 ciudades. ¿Depende esta variable del tamaño de la ciudad? ¿Existen en estas ciudades zonas con consumo auto-generado inusualmente pequeño o inusualmente grande?\n",
        "\n",
        "7. ¿Existe una relación entre el consumo anual y la cantidad de conexiones de una ciudad? ¿Entre el consumo anual y la cantidad de energía auto-generada en la ciudad? \n",
        "\n",
        "8. ¿Está aumentado el consumo de gas en el país? ¿El consumo de electricidad? ¿Está aumentando o disminuyendo más un tipo de consumo que otro? Para abordar esta pregunta, desagregue los datos por año y ciudad, presentando gráficos que permitan comparar fácilmente tanto tendencia como dispersión. Limítese a estudiar lo que sucede en las 10 ciudades con más conexiones. Comente lo que observa.\n",
        "\n",
        "9. ¿Está aumentado la cantidad de energía auto-generada en el país? Para abordar esta pregunta, desagregue los datos por año y ciudad, presentando gráficos que permitan comparar fácilmente tanto tendencia como dispersión. Limítese a estudiar lo que sucede en las 10 ciudades con más conexiones.  Comente lo que observa.\n",
        "\n",
        "\n",
        "10. Proponga y desarrolle un análisis libre que no haya sido cubierto y que esté relacionada al objetivo del cliente (saber en qué empresas o ciudades o tipos de conexion invertir). Resuma también las principales conclusiones del estudio.\n"
      ]
    },
    {
      "cell_type": "markdown",
      "metadata": {
        "id": "FP7nSpl7DmvX"
      },
      "source": [
        "## Consejos y tips para su desarrollo\n",
        "- Familiaricese con los tipos de datos que implementa pandas.\n",
        "- Probablemente le sirva familiarizarse con las formas de hacer filtros según condiciones booleanas en pandas.\n",
        "- La columna `type_conn_perc` presenta un pequeño problema: El punto flotante está especificado con una coma (`,`) en lugar de un punto (`.`), esto hace que pandas interprete los valores de esa columna como `object` cuando en realidad debiesen estar como tipo `float`, estudie como coercionar una columna en pandas de un tipo de dato a otro y somo aplicar transformaciones sobre cada uno de los elementos dentro de una columna (método `.apply()` por ejemplo).\n",
        "- Puede agrupar datos de acuerdo a alguna columna de interés y después aplicar alguna función de agregación sobre alguna/s columna/s de interés con los métodos `.groupby()` y `.agg()` de la clase `DataFrame` y `GroupedDataFrame` respectivamente. Por ejemplo, si quisiese saber la cantidad de conexiones por ciudad podría agrupar por ciudad y agregar la columna `num_connections` con una operación de suma.\n",
        "- Algunas funciones de visualización de la librería `seaborn` permiten la desagregación de los gráficos de acuerdo alguna variable categórica (idealmente) mediante la incorporación del parámetro `hue` en su firma, vea la documentación del método para saber como usarlo en caso de que lo requiera.\n",
        "\n",
        "\n"
      ]
    },
    {
      "cell_type": "markdown",
      "metadata": {
        "id": "D-u2MGTd-mI2"
      },
      "source": [
        "## Formalidades & Reglas\n",
        "\n",
        "\n",
        "*   **Fecha límite:** la recopilación de las soluciones para corrección se hará el día martes 29 de Marzo a las 08:00 hrs. \n",
        " \n",
        "*   La solución debe desarrollarse como extensión del cuaderno con los enunciados, cambiando el nombre del archivo a *Taller1_INF280_I_2022_ENTREGA_NOMBRE_EQUIPO.ipynb*.\n",
        "\n",
        "*  Se debe trabajar en equipos de 3 personas identificadas al inicio del cuaderno con la solución. Excepciones a esta regla deben ser conversadas con los profesores.\n",
        "\n",
        "*  Pueden utilizar Python o R. Pueden re-usar código visto en clases y/o recolectar código/ideas de otros sitios, mencionando al autor y entregando un link a la fuente.\n",
        "\n",
        "*  Es posible utilizar apuntes, libros, y cualquier otro material que desee, pero debe ser el equipo quien desarrolle los ejercicios y comente los resultados en el cuaderno que entregará.\n",
        "\n",
        "*  Tener roles dentro del equipo está bien, pero al final del proceso, cada miembro debe entender y estar en condiciones de exponer todo el trabajo realizado.\n",
        "\n",
        "*  Además del cuaderno, cada estudiante debe entregar un video (<=20 minutos) explicando lo que se hizo. Mientras se da la explicación, se debe recorrer el cuaderno con la solución enfatizando el análisis y las conclusiones (no detalles de código). Los videos debe ser subidos a una plataforma externa (Youtube, Google Drive, Dropbox, etc). Se deben sólo incluir links dentro del cuaderno, recordando otorgar los permisos para que se pueda revisar.\n",
        "\n"
      ]
    },
    {
      "cell_type": "markdown",
      "metadata": {
        "id": "H8xoYqSC-_sx"
      },
      "source": [
        "# **Desarrollo**"
      ]
    },
    {
      "cell_type": "markdown",
      "source": [
        "Este trabajo fue desarrollado por los autores aquí identificados en conformidad con el código de honor UTFSM."
      ],
      "metadata": {
        "id": "G8kNK2zbwG5s"
      }
    },
    {
      "cell_type": "markdown",
      "source": [
        "# Links\n",
        "\n",
        "En esta sección se encuentran los enlaces al video de cada integrante:"
      ],
      "metadata": {
        "id": "8sh1CyDrD6S1"
      }
    },
    {
      "cell_type": "markdown",
      "source": [
        "*   Alonso Herrera: [https://drive.google.com/file/d/1nO41rSlPXkXgVTOKi3yrZW55pUR6WbGB/view?usp=sharing](https://drive.google.com/file/d/1nO41rSlPXkXgVTOKi3yrZW55pUR6WbGB/view?usp=sharing)\n",
        "*   Nicolás Pizarro: https://youtu.be/dOlrCmKmXg8\n",
        "*   Francisca González: [https://drive.google.com/file/d/1xYn91i3yZ8IE2Mt7bFj7dChGtEgHJXg5/view?usp=sharing](https://drive.google.com/file/d/1xYn91i3yZ8IE2Mt7bFj7dChGtEgHJXg5/view?usp=sharing)\n",
        "\n"
      ],
      "metadata": {
        "id": "U-Tg7DheEJjb"
      }
    },
    {
      "cell_type": "markdown",
      "metadata": {
        "id": "gJqjtgXhVdue"
      },
      "source": [
        "# Pregunta 1\n",
        "\n",
        "¿Cuáles son las 10 ciudades que consumieron más energía eléctrica el 2020? ¿Son las mismas 10 que consumieron una mayor cantidad anual de gas? Entregue estadísticas y un gráfico apropiado para apoyar su respuesta. ¿Tiene sentido lo que observa?"
      ]
    },
    {
      "cell_type": "markdown",
      "source": [
        "Lo primero que hicimos para resolver esta pregunta fue crear 2 dataframes, uno para cada tipo de energía, y que solamente posee datos del año 2020."
      ],
      "metadata": {
        "id": "UmL-_5wBDLpb"
      }
    },
    {
      "cell_type": "code",
      "execution_count": null,
      "metadata": {
        "id": "ecNKfha8HnvX"
      },
      "outputs": [],
      "source": [
        "df_2020_e = df_electricity.loc[df_electricity['year'] == 2020]\n",
        "df_2020_g = df_gas.loc[df_gas['year'] == 2020]"
      ]
    },
    {
      "cell_type": "markdown",
      "source": [
        "Luego sumamos el consumo anual en cada ciudad, los ordenamos descendentemente y graficamos las primeras 10 ciudades con mayor consumo de electricidad y gas, cuyos resultados se presentan a continuación."
      ],
      "metadata": {
        "id": "tY6O2qB2LqTb"
      }
    },
    {
      "cell_type": "code",
      "execution_count": null,
      "metadata": {
        "id": "cENMbgnPi2B0",
        "colab": {
          "base_uri": "https://localhost:8080/",
          "height": 605
        },
        "outputId": "365b8b7f-04e2-4968-c8aa-37e4e455e8d7"
      },
      "outputs": [
        {
          "output_type": "display_data",
          "data": {
            "text/plain": [
              "<Figure size 1080x720 with 1 Axes>"
            ],
            "image/png": "[encoded data removed]"
          },
          "metadata": {
            "needs_background": "light"
          }
        }
      ],
      "source": [
        "df_2020_e.groupby(['city']).sum().sort_values('annual_consume',ascending=True)['annual_consume'].tail(10).plot(kind='barh',legend='Reverse')\n",
        "plt.show()"
      ]
    },
    {
      "cell_type": "code",
      "execution_count": null,
      "metadata": {
        "id": "r2nWzfxbjShk",
        "colab": {
          "base_uri": "https://localhost:8080/",
          "height": 605
        },
        "outputId": "9ddbb7fe-5e67-42fe-ff4a-9759e99fccba"
      },
      "outputs": [
        {
          "output_type": "display_data",
          "data": {
            "text/plain": [
              "<Figure size 1080x720 with 1 Axes>"
            ],
            "image/png": "[encoded data removed]"
          },
          "metadata": {
            "needs_background": "light"
          }
        }
      ],
      "source": [
        "df_2020_g.groupby(['city']).sum().sort_values('annual_consume',ascending=True)['annual_consume'].tail(10).plot(kind='barh',legend='Reverse')\n",
        "plt.show()"
      ]
    },
    {
      "cell_type": "markdown",
      "source": [
        "De los gráficos anteriores se puede observar que algunas ciudades comparten posición tales como Amsterdam, 'S-Gravenhage y Rotterdam, siendo las 3 primeras en ambas gráficas, sin embargo se presentan ciudades en el gráfico de electricidad que no aparecen en el gráfico de gas y viceversa.\n",
        "\n",
        "Esto quiere decir que existen ciudades con un alto consumo de electricidad y un bajo consumo de gas, otras con un alto consumo de gas y un bajo consumo de electricidad, y otras con un alto consumo tanto de electricidad como de gas."
      ],
      "metadata": {
        "id": "qCdYRByRENjr"
      }
    },
    {
      "cell_type": "markdown",
      "metadata": {
        "id": "X8oVmIVe2S55"
      },
      "source": [
        "# Pregunta 2\n",
        "\n",
        "¿Cuál es el grado de acaparamiento que se observa en el mercado eléctrico nacional durante 2020? ¿En el mercado del gas? Responda analizando el número de conexiones por proveedor y la energía consumida por esas conexiones. Entregue medidas de tendencia y un gráfico apropiado para apoyar su respuesta."
      ]
    },
    {
      "cell_type": "markdown",
      "source": [
        "Primero obtuvimos el número de conexiones en el año 2020, las graficamos en un gráfico de barras y obtuvimos sus medidas de tendencia (media, mediana y moda)."
      ],
      "metadata": {
        "id": "ucoglor-5qdl"
      }
    },
    {
      "cell_type": "code",
      "source": [
        "df_2020_e.groupby(['net_manager']).sum().sort_values('num_connections',ascending=False)['num_connections'].plot(kind='bar',legend='Reverse')\n",
        "plt.show()\n",
        "\n",
        "print('\\nMedidas de Tendencia en num_connections:')\n",
        "print('Media: ', int(df_2020_e['num_connections'].mean()))\n",
        "print('Mediana: ', int(df_2020_e['num_connections'].median()))\n",
        "print('Moda: ', int(df_2020_e['num_connections'].mode().values))"
      ],
      "metadata": {
        "colab": {
          "base_uri": "https://localhost:8080/",
          "height": 818
        },
        "id": "WCj8JQDH8IL5",
        "outputId": "0d3f952d-8d20-4c1b-d306-c62f54c47a43"
      },
      "execution_count": null,
      "outputs": [
        {
          "output_type": "display_data",
          "data": {
            "text/plain": [
              "<Figure size 1080x720 with 1 Axes>"
            ],
            "image/png": "[encoded data removed]"
          },
          "metadata": {
            "needs_background": "light"
          }
        },
        {
          "output_type": "stream",
          "name": "stdout",
          "text": [
            "\n",
            "Medidas de Tendencia en num_connections:\n",
            "Media:  23\n",
            "Mediana:  20\n",
            "Moda:  16\n"
          ]
        }
      ]
    },
    {
      "cell_type": "markdown",
      "source": [
        "Luego repetimos el procedimiento para los consumos por conexiones."
      ],
      "metadata": {
        "id": "_sAOjHw_8zhc"
      }
    },
    {
      "cell_type": "code",
      "source": [
        "df_2020_e.groupby(['net_manager']).mean().sort_values('consume_per_conn',ascending=False)['consume_per_conn'].plot(kind='bar',legend='Reverse')\n",
        "plt.show()\n",
        "\n",
        "print('\\nMedidas de Tendencia en consume_per_conn:')\n",
        "print('Media: ', int(df_2020_e['consume_per_conn'].mean()))\n",
        "print('Mediana: ', int(df_2020_e['consume_per_conn'].median()))\n",
        "print('Moda: ', int(df_2020_e['consume_per_conn'].mode().values))"
      ],
      "metadata": {
        "colab": {
          "base_uri": "https://localhost:8080/",
          "height": 808
        },
        "id": "ATaxwcfO8LAj",
        "outputId": "fc57f53b-6372-4dad-aa4f-65f05967dff7"
      },
      "execution_count": null,
      "outputs": [
        {
          "output_type": "display_data",
          "data": {
            "text/plain": [
              "<Figure size 1080x720 with 1 Axes>"
            ],
            "image/png": "[encoded data removed]"
          },
          "metadata": {
            "needs_background": "light"
          }
        },
        {
          "output_type": "stream",
          "name": "stdout",
          "text": [
            "\n",
            "Medidas de Tendencia en consume_per_conn:\n",
            "Media:  244\n",
            "Mediana:  162\n",
            "Moda:  0\n"
          ]
        }
      ]
    },
    {
      "cell_type": "markdown",
      "source": [
        "Finalmente creamos un dataframe nuevo con `net_manager`, `num_connections`, `consume_per_conn`, junto con `num_connections_percent`, que es porcentaje de número de conexiones que pertenecen a una compañía."
      ],
      "metadata": {
        "id": "FwHDreH4965A"
      }
    },
    {
      "cell_type": "code",
      "source": [
        "a = df_2020_e.groupby(['net_manager']).sum()\n",
        "df_manager = pd.DataFrame()\n",
        "net_managers = []\n",
        "for index,row in a.iterrows():\n",
        "  net_managers.append(index)\n",
        "df_manager['net_manager'] = net_managers\n",
        "df_manager['num_connections'] = a['num_connections'].values\n",
        "\n",
        "list_consume = []\n",
        "\n",
        "consume_means = pd.DataFrame(df_2020_e.groupby(['net_manager'])['consume_per_conn'].mean())\n",
        "consume_means['net_manager'] = consume_means.index\n",
        "for manager in net_managers:\n",
        "  list_consume.append(float(consume_means.loc[consume_means['net_manager'] == manager]['consume_per_conn'].values))\n",
        "\n",
        "df_manager['consume_per_conn'] = list_consume\n",
        "\n",
        "df_manager['total_consume'] = df_manager['num_connections'] * df_manager['consume_per_conn']\n",
        "\n",
        "df_manager['total_consume_perc'] =  100 * df_manager['total_consume'] / df_manager['total_consume'].sum()\n",
        "\n",
        "df_manager"
      ],
      "metadata": {
        "colab": {
          "base_uri": "https://localhost:8080/",
          "height": 206
        },
        "id": "kaFKpDxfuNRw",
        "outputId": "1fa714a0-dd79-4435-f6c5-55d7e019852d"
      },
      "execution_count": null,
      "outputs": [
        {
          "output_type": "execute_result",
          "data": {
            "text/plain": [
              "                  net_manager  num_connections  consume_per_conn  \\\n",
              "0           coteq electricity          55307.0        224.757667   \n",
              "1          enexis electricity        2666499.0        254.282387   \n",
              "2         liander electricity        3505527.0        255.130042   \n",
              "3          stedin electricity        2133441.0        214.624236   \n",
              "4  westland-infra electricity          60419.0        234.859563   \n",
              "\n",
              "   total_consume  total_consume_perc  \n",
              "0   1.243067e+07            0.604335  \n",
              "1   6.780437e+08           32.964066  \n",
              "2   8.943653e+08           43.480846  \n",
              "3   4.578881e+08           22.260887  \n",
              "4   1.418998e+07            0.689866  "
            ],
            "text/html": [
              "\n",
              "  <div id=\"df-287fba07-7484-4338-8770-2b81e181de79\">\n",
              "    <div class=\"colab-df-container\">\n",
              "      <div>\n",
              "<style scoped>\n",
              "    .dataframe tbody tr th:only-of-type {\n",
              "        vertical-align: middle;\n",
              "    }\n",
              "\n",
              "    .dataframe tbody tr th {\n",
              "        vertical-align: top;\n",
              "    }\n",
              "\n",
              "    .dataframe thead th {\n",
              "        text-align: right;\n",
              "    }\n",
              "</style>\n",
              "<table border=\"1\" class=\"dataframe\">\n",
              "  <thead>\n",
              "    <tr style=\"text-align: right;\">\n",
              "      <th></th>\n",
              "      <th>net_manager</th>\n",
              "      <th>num_connections</th>\n",
              "      <th>consume_per_conn</th>\n",
              "      <th>total_consume</th>\n",
              "      <th>total_consume_perc</th>\n",
              "    </tr>\n",
              "  </thead>\n",
              "  <tbody>\n",
              "    <tr>\n",
              "      <th>0</th>\n",
              "      <td>coteq electricity</td>\n",
              "      <td>55307.0</td>\n",
              "      <td>224.757667</td>\n",
              "      <td>1.243067e+07</td>\n",
              "      <td>0.604335</td>\n",
              "    </tr>\n",
              "    <tr>\n",
              "      <th>1</th>\n",
              "      <td>enexis electricity</td>\n",
              "      <td>2666499.0</td>\n",
              "      <td>254.282387</td>\n",
              "      <td>6.780437e+08</td>\n",
              "      <td>32.964066</td>\n",
              "    </tr>\n",
              "    <tr>\n",
              "      <th>2</th>\n",
              "      <td>liander electricity</td>\n",
              "      <td>3505527.0</td>\n",
              "      <td>255.130042</td>\n",
              "      <td>8.943653e+08</td>\n",
              "      <td>43.480846</td>\n",
              "    </tr>\n",
              "    <tr>\n",
              "      <th>3</th>\n",
              "      <td>stedin electricity</td>\n",
              "      <td>2133441.0</td>\n",
              "      <td>214.624236</td>\n",
              "      <td>4.578881e+08</td>\n",
              "      <td>22.260887</td>\n",
              "    </tr>\n",
              "    <tr>\n",
              "      <th>4</th>\n",
              "      <td>westland-infra electricity</td>\n",
              "      <td>60419.0</td>\n",
              "      <td>234.859563</td>\n",
              "      <td>1.418998e+07</td>\n",
              "      <td>0.689866</td>\n",
              "    </tr>\n",
              "  </tbody>\n",
              "</table>\n",
              "</div>\n",
              "      <button class=\"colab-df-convert\" onclick=\"convertToInteractive('df-287fba07-7484-4338-8770-2b81e181de79')\"\n",
              "              title=\"Convert this dataframe to an interactive table.\"\n",
              "              style=\"display:none;\">\n",
              "        \n",
              "  <svg xmlns=\"http://www.w3.org/2000/svg\" height=\"24px\"viewBox=\"0 0 24 24\"\n",
              "       width=\"24px\">\n",
              "    <path d=\"M0 0h24v24H0V0z\" fill=\"none\"/>\n",
              "    <path d=\"M18.56 5.44l.94 2.06.94-2.06 2.06-.94-2.06-.94-.94-2.06-.94 2.06-2.06.94zm-11 1L8.5 8.5l.94-2.06 2.06-.94-2.06-.94L8.5 2.5l-.94 2.06-2.06.94zm10 10l.94 2.06.94-2.06 2.06-.94-2.06-.94-.94-2.06-.94 2.06-2.06.94z\"/><path d=\"M17.41 7.96l-1.37-1.37c-.4-.4-.92-.59-1.43-.59-.52 0-1.04.2-1.43.59L10.3 9.45l-7.72 7.72c-.78.78-.78 2.05 0 2.83L4 21.41c.39.39.9.59 1.41.59.51 0 1.02-.2 1.41-.59l7.78-7.78 2.81-2.81c.8-.78.8-2.07 0-2.86zM5.41 20L4 18.59l7.72-7.72 1.47 1.35L5.41 20z\"/>\n",
              "  </svg>\n",
              "      </button>\n",
              "      \n",
              "  <style>\n",
              "    .colab-df-container {\n",
              "      display:flex;\n",
              "      flex-wrap:wrap;\n",
              "      gap: 12px;\n",
              "    }\n",
              "\n",
              "    .colab-df-convert {\n",
              "      background-color: #E8F0FE;\n",
              "      border: none;\n",
              "      border-radius: 50%;\n",
              "      cursor: pointer;\n",
              "      display: none;\n",
              "      fill: #1967D2;\n",
              "      height: 32px;\n",
              "      padding: 0 0 0 0;\n",
              "      width: 32px;\n",
              "    }\n",
              "\n",
              "    .colab-df-convert:hover {\n",
              "      background-color: #E2EBFA;\n",
              "      box-shadow: 0px 1px 2px rgba(60, 64, 67, 0.3), 0px 1px 3px 1px rgba(60, 64, 67, 0.15);\n",
              "      fill: #174EA6;\n",
              "    }\n",
              "\n",
              "    [theme=dark] .colab-df-convert {\n",
              "      background-color: #3B4455;\n",
              "      fill: #D2E3FC;\n",
              "    }\n",
              "\n",
              "    [theme=dark] .colab-df-convert:hover {\n",
              "      background-color: #434B5C;\n",
              "      box-shadow: 0px 1px 3px 1px rgba(0, 0, 0, 0.15);\n",
              "      filter: drop-shadow(0px 1px 2px rgba(0, 0, 0, 0.3));\n",
              "      fill: #FFFFFF;\n",
              "    }\n",
              "  </style>\n",
              "\n",
              "      <script>\n",
              "        const buttonEl =\n",
              "          document.querySelector('#df-287fba07-7484-4338-8770-2b81e181de79 button.colab-df-convert');\n",
              "        buttonEl.style.display =\n",
              "          google.colab.kernel.accessAllowed ? 'block' : 'none';\n",
              "\n",
              "        async function convertToInteractive(key) {\n",
              "          const element = document.querySelector('#df-287fba07-7484-4338-8770-2b81e181de79');\n",
              "          const dataTable =\n",
              "            await google.colab.kernel.invokeFunction('convertToInteractive',\n",
              "                                                     [key], {});\n",
              "          if (!dataTable) return;\n",
              "\n",
              "          const docLinkHtml = 'Like what you see? Visit the ' +\n",
              "            '<a target=\"_blank\" href=https://colab.research.google.com/notebooks/data_table.ipynb>data table notebook</a>'\n",
              "            + ' to learn more about interactive tables.';\n",
              "          element.innerHTML = '';\n",
              "          dataTable['output_type'] = 'display_data';\n",
              "          await google.colab.output.renderOutput(dataTable, element);\n",
              "          const docLink = document.createElement('div');\n",
              "          docLink.innerHTML = docLinkHtml;\n",
              "          element.appendChild(docLink);\n",
              "        }\n",
              "      </script>\n",
              "    </div>\n",
              "  </div>\n",
              "  "
            ]
          },
          "metadata": {},
          "execution_count": 66
        }
      ]
    },
    {
      "cell_type": "markdown",
      "source": [
        "Con el mercado del gas hicimos los mismos cálculos y gráficos con los datos del año 2020."
      ],
      "metadata": {
        "id": "0X_FUjXZ_LHs"
      }
    },
    {
      "cell_type": "code",
      "source": [
        "df_2020_g.groupby(['net_manager']).sum().sort_values('num_connections',ascending=False)['num_connections'].plot(kind='bar',legend='Reverse')\n",
        "plt.show()\n",
        "\n",
        "print('\\nMedidas de Tendencia en num_connections:')\n",
        "print('Media: ', int(df_2020_g['num_connections'].mean()))\n",
        "print('Mediana: ', int(df_2020_g['num_connections'].median()))\n",
        "print('Moda: ', int(df_2020_g['num_connections'].mode().values))"
      ],
      "metadata": {
        "colab": {
          "base_uri": "https://localhost:8080/",
          "height": 786
        },
        "id": "I-nDJv8n_zC2",
        "outputId": "73ee3084-9666-47a7-f648-e99d82e92cb5"
      },
      "execution_count": null,
      "outputs": [
        {
          "output_type": "display_data",
          "data": {
            "text/plain": [
              "<Figure size 1080x720 with 1 Axes>"
            ],
            "image/png": "[encoded data removed]"
          },
          "metadata": {
            "needs_background": "light"
          }
        },
        {
          "output_type": "stream",
          "name": "stdout",
          "text": [
            "\n",
            "Medidas de Tendencia en num_connections:\n",
            "Media:  21\n",
            "Mediana:  19\n",
            "Moda:  16\n"
          ]
        }
      ]
    },
    {
      "cell_type": "code",
      "source": [
        "df_2020_g.groupby(['net_manager']).mean().sort_values('consume_per_conn',ascending=False)['consume_per_conn'].plot(kind='bar',legend='Reverse')\n",
        "plt.show()\n",
        "\n",
        "print('\\nMedidas de Tendencia en consume_per_conn:')\n",
        "print('Media: ', int(df_2020_g['consume_per_conn'].mean()))\n",
        "print('Mediana: ', int(df_2020_g['consume_per_conn'].median()))\n",
        "print('Moda: ', int(df_2020_g['consume_per_conn'].mode().values))"
      ],
      "metadata": {
        "colab": {
          "base_uri": "https://localhost:8080/",
          "height": 776
        },
        "id": "cuGvcBQc_0iY",
        "outputId": "80f022dc-77f8-4942-abca-cfca3b143730"
      },
      "execution_count": null,
      "outputs": [
        {
          "output_type": "display_data",
          "data": {
            "text/plain": [
              "<Figure size 1080x720 with 1 Axes>"
            ],
            "image/png": "[encoded data removed]"
          },
          "metadata": {
            "needs_background": "light"
          }
        },
        {
          "output_type": "stream",
          "name": "stdout",
          "text": [
            "\n",
            "Medidas de Tendencia en consume_per_conn:\n",
            "Media:  99\n",
            "Mediana:  79\n",
            "Moda:  0\n"
          ]
        }
      ]
    },
    {
      "cell_type": "code",
      "source": [
        "a = df_2020_g.groupby(['net_manager']).sum()\n",
        "df_manager = pd.DataFrame()\n",
        "net_managers=[]\n",
        "for index,row in a.iterrows():\n",
        "  net_managers.append(index)\n",
        "df_manager['net_manager'] = net_managers\n",
        "df_manager['num_connections'] = a['num_connections'].values\n",
        "\n",
        "list_consume = []\n",
        "\n",
        "consume_means = pd.DataFrame(df_2020_g.groupby(['net_manager'])['consume_per_conn'].mean())\n",
        "consume_means['net_manager'] = consume_means.index\n",
        "for manager in net_managers:\n",
        "  list_consume.append(float(consume_means.loc[consume_means['net_manager'] == manager]['consume_per_conn'].values))\n",
        "\n",
        "df_manager['consume_per_conn'] = list_consume\n",
        "\n",
        "df_manager['total_consume'] = df_manager['num_connections'] * df_manager['consume_per_conn']\n",
        "\n",
        "df_manager['total_consume_perc'] =  100 * df_manager['total_consume'] / df_manager['total_consume'].sum()\n",
        "\n",
        "df_manager"
      ],
      "metadata": {
        "colab": {
          "base_uri": "https://localhost:8080/",
          "height": 206
        },
        "id": "MTYOUMbBuTn3",
        "outputId": "718edefe-7fe0-4874-9ffd-858ca6b56b05"
      },
      "execution_count": null,
      "outputs": [
        {
          "output_type": "execute_result",
          "data": {
            "text/plain": [
              "          net_manager  num_connections  consume_per_conn  total_consume  \\\n",
              "0           coteq gas         145295.0        105.425147   1.531775e+07   \n",
              "1          enexis gas        2299996.0        109.950673   2.528861e+08   \n",
              "2         liander gas        2663902.0         96.833199   2.579542e+08   \n",
              "3          stedin gas        1976782.0         89.826543   1.775675e+08   \n",
              "4  westland-infra gas          54403.0         84.526718   4.598507e+06   \n",
              "\n",
              "   total_consume_perc  \n",
              "0            2.162534  \n",
              "1           35.702038  \n",
              "2           36.417536  \n",
              "3           25.068682  \n",
              "4            0.649210  "
            ],
            "text/html": [
              "\n",
              "  <div id=\"df-847b255f-6dff-48d1-90d9-07e0ecc448ad\">\n",
              "    <div class=\"colab-df-container\">\n",
              "      <div>\n",
              "<style scoped>\n",
              "    .dataframe tbody tr th:only-of-type {\n",
              "        vertical-align: middle;\n",
              "    }\n",
              "\n",
              "    .dataframe tbody tr th {\n",
              "        vertical-align: top;\n",
              "    }\n",
              "\n",
              "    .dataframe thead th {\n",
              "        text-align: right;\n",
              "    }\n",
              "</style>\n",
              "<table border=\"1\" class=\"dataframe\">\n",
              "  <thead>\n",
              "    <tr style=\"text-align: right;\">\n",
              "      <th></th>\n",
              "      <th>net_manager</th>\n",
              "      <th>num_connections</th>\n",
              "      <th>consume_per_conn</th>\n",
              "      <th>total_consume</th>\n",
              "      <th>total_consume_perc</th>\n",
              "    </tr>\n",
              "  </thead>\n",
              "  <tbody>\n",
              "    <tr>\n",
              "      <th>0</th>\n",
              "      <td>coteq gas</td>\n",
              "      <td>145295.0</td>\n",
              "      <td>105.425147</td>\n",
              "      <td>1.531775e+07</td>\n",
              "      <td>2.162534</td>\n",
              "    </tr>\n",
              "    <tr>\n",
              "      <th>1</th>\n",
              "      <td>enexis gas</td>\n",
              "      <td>2299996.0</td>\n",
              "      <td>109.950673</td>\n",
              "      <td>2.528861e+08</td>\n",
              "      <td>35.702038</td>\n",
              "    </tr>\n",
              "    <tr>\n",
              "      <th>2</th>\n",
              "      <td>liander gas</td>\n",
              "      <td>2663902.0</td>\n",
              "      <td>96.833199</td>\n",
              "      <td>2.579542e+08</td>\n",
              "      <td>36.417536</td>\n",
              "    </tr>\n",
              "    <tr>\n",
              "      <th>3</th>\n",
              "      <td>stedin gas</td>\n",
              "      <td>1976782.0</td>\n",
              "      <td>89.826543</td>\n",
              "      <td>1.775675e+08</td>\n",
              "      <td>25.068682</td>\n",
              "    </tr>\n",
              "    <tr>\n",
              "      <th>4</th>\n",
              "      <td>westland-infra gas</td>\n",
              "      <td>54403.0</td>\n",
              "      <td>84.526718</td>\n",
              "      <td>4.598507e+06</td>\n",
              "      <td>0.649210</td>\n",
              "    </tr>\n",
              "  </tbody>\n",
              "</table>\n",
              "</div>\n",
              "      <button class=\"colab-df-convert\" onclick=\"convertToInteractive('df-847b255f-6dff-48d1-90d9-07e0ecc448ad')\"\n",
              "              title=\"Convert this dataframe to an interactive table.\"\n",
              "              style=\"display:none;\">\n",
              "        \n",
              "  <svg xmlns=\"http://www.w3.org/2000/svg\" height=\"24px\"viewBox=\"0 0 24 24\"\n",
              "       width=\"24px\">\n",
              "    <path d=\"M0 0h24v24H0V0z\" fill=\"none\"/>\n",
              "    <path d=\"M18.56 5.44l.94 2.06.94-2.06 2.06-.94-2.06-.94-.94-2.06-.94 2.06-2.06.94zm-11 1L8.5 8.5l.94-2.06 2.06-.94-2.06-.94L8.5 2.5l-.94 2.06-2.06.94zm10 10l.94 2.06.94-2.06 2.06-.94-2.06-.94-.94-2.06-.94 2.06-2.06.94z\"/><path d=\"M17.41 7.96l-1.37-1.37c-.4-.4-.92-.59-1.43-.59-.52 0-1.04.2-1.43.59L10.3 9.45l-7.72 7.72c-.78.78-.78 2.05 0 2.83L4 21.41c.39.39.9.59 1.41.59.51 0 1.02-.2 1.41-.59l7.78-7.78 2.81-2.81c.8-.78.8-2.07 0-2.86zM5.41 20L4 18.59l7.72-7.72 1.47 1.35L5.41 20z\"/>\n",
              "  </svg>\n",
              "      </button>\n",
              "      \n",
              "  <style>\n",
              "    .colab-df-container {\n",
              "      display:flex;\n",
              "      flex-wrap:wrap;\n",
              "      gap: 12px;\n",
              "    }\n",
              "\n",
              "    .colab-df-convert {\n",
              "      background-color: #E8F0FE;\n",
              "      border: none;\n",
              "      border-radius: 50%;\n",
              "      cursor: pointer;\n",
              "      display: none;\n",
              "      fill: #1967D2;\n",
              "      height: 32px;\n",
              "      padding: 0 0 0 0;\n",
              "      width: 32px;\n",
              "    }\n",
              "\n",
              "    .colab-df-convert:hover {\n",
              "      background-color: #E2EBFA;\n",
              "      box-shadow: 0px 1px 2px rgba(60, 64, 67, 0.3), 0px 1px 3px 1px rgba(60, 64, 67, 0.15);\n",
              "      fill: #174EA6;\n",
              "    }\n",
              "\n",
              "    [theme=dark] .colab-df-convert {\n",
              "      background-color: #3B4455;\n",
              "      fill: #D2E3FC;\n",
              "    }\n",
              "\n",
              "    [theme=dark] .colab-df-convert:hover {\n",
              "      background-color: #434B5C;\n",
              "      box-shadow: 0px 1px 3px 1px rgba(0, 0, 0, 0.15);\n",
              "      filter: drop-shadow(0px 1px 2px rgba(0, 0, 0, 0.3));\n",
              "      fill: #FFFFFF;\n",
              "    }\n",
              "  </style>\n",
              "\n",
              "      <script>\n",
              "        const buttonEl =\n",
              "          document.querySelector('#df-847b255f-6dff-48d1-90d9-07e0ecc448ad button.colab-df-convert');\n",
              "        buttonEl.style.display =\n",
              "          google.colab.kernel.accessAllowed ? 'block' : 'none';\n",
              "\n",
              "        async function convertToInteractive(key) {\n",
              "          const element = document.querySelector('#df-847b255f-6dff-48d1-90d9-07e0ecc448ad');\n",
              "          const dataTable =\n",
              "            await google.colab.kernel.invokeFunction('convertToInteractive',\n",
              "                                                     [key], {});\n",
              "          if (!dataTable) return;\n",
              "\n",
              "          const docLinkHtml = 'Like what you see? Visit the ' +\n",
              "            '<a target=\"_blank\" href=https://colab.research.google.com/notebooks/data_table.ipynb>data table notebook</a>'\n",
              "            + ' to learn more about interactive tables.';\n",
              "          element.innerHTML = '';\n",
              "          dataTable['output_type'] = 'display_data';\n",
              "          await google.colab.output.renderOutput(dataTable, element);\n",
              "          const docLink = document.createElement('div');\n",
              "          docLink.innerHTML = docLinkHtml;\n",
              "          element.appendChild(docLink);\n",
              "        }\n",
              "      </script>\n",
              "    </div>\n",
              "  </div>\n",
              "  "
            ]
          },
          "metadata": {},
          "execution_count": 69
        }
      ]
    },
    {
      "cell_type": "markdown",
      "source": [
        "Obteniendo `total_consume`, que corresponde al producto del número de conexiones por el consumo por conexión promedio, es decir, el consumo total de todas las conexiones de una compañía, podemos saber el porcentaje o grado de acaparamiento que tienen las compañías en cada mercado, el cual se representa en `total_consume_perc`.\n",
        "\n",
        "De lo anterior podemos concluir que la compañía con mayor acaparamiento de la electricidad sería Liander teniendo aproximadamente un 0.43 de acaparamiento, mientras que Coteq sería la compañía con menor acaparamiento teniendo solo un 0.006 de acaparamiento.\n",
        "\n",
        "En el caso del mercado del gas, la compañía con mayor acaparamiento vuelve a ser Liander pero solo con un 0.36 de acaparamiento, y la compañía con menor acaparamiento sería Westland-infra con un 0.006 de acaparamiento."
      ],
      "metadata": {
        "id": "Q8fHYcDLDdcR"
      }
    },
    {
      "cell_type": "markdown",
      "metadata": {
        "id": "_xC1kgyFWE0D"
      },
      "source": [
        "# Pregunta 3\n",
        "\n",
        "¿Cuánta energía consumió una conexión a la red durante 2020? Responda construyendo un histograma que muestre cómo se distribuye la cantidad de energía por conexión durante 2020. Describa el histograma en términos de modas, simetría, y sesgo. Entregue además estadísticas de tendencia y dispersión. Comente."
      ]
    },
    {
      "cell_type": "markdown",
      "source": [
        "Para esta pregunta elegimos analizar los datos del mercado eléctrico, sin embargo tomamos una muestra de los datos para visualizar la densidad de los datos.\n",
        "\n",
        "Graficamos dicha muestra en un histograma, cuyo valor k lo obtuvimos con el método de la raíz cuadrada. Además calculamos las medidas de tendencia (media, mediana y moda), junto el sesgo y la desviación estándar."
      ],
      "metadata": {
        "id": "t58P_Diqjlq9"
      }
    },
    {
      "cell_type": "code",
      "source": [
        "df_2020_emuestra = df_2020_e.sort_values('consume_per_conn', ascending=False).tail(360000)\n",
        "df_2020_emuestra.hist(column=['consume_per_conn'], bins=600, grid=False)\n",
        "plt.show()\n",
        "\n",
        "print('\\nMedia: ', int(df_2020_emuestra['consume_per_conn'].mean()))\n",
        "print('Mediana: ', int(df_2020_emuestra['consume_per_conn'].median()))\n",
        "print('Moda: ', int(df_2020_emuestra['consume_per_conn'].mode()))\n",
        "print('Desviación estándar: ', round(df_2020_emuestra['consume_per_conn'].std(), 2))\n",
        "print('Sesgo: ', round(df_2020_emuestra['consume_per_conn'].skew(), 2))"
      ],
      "metadata": {
        "colab": {
          "base_uri": "https://localhost:8080/",
          "height": 711
        },
        "id": "28fpysmgkvm1",
        "outputId": "eb7c46d4-de87-48f4-f804-7d598e0d8d4e"
      },
      "execution_count": null,
      "outputs": [
        {
          "output_type": "display_data",
          "data": {
            "text/plain": [
              "<Figure size 1080x720 with 1 Axes>"
            ],
            "image/png": "[encoded data removed]"
          },
          "metadata": {
            "needs_background": "light"
          }
        },
        {
          "output_type": "stream",
          "name": "stdout",
          "text": [
            "\n",
            "Media:  240\n",
            "Mediana:  162\n",
            "Moda:  0\n",
            "Desviación estándar:  295.78\n",
            "Sesgo:  5.47\n"
          ]
        }
      ]
    },
    {
      "cell_type": "markdown",
      "source": [
        "Del gráfico podemos ver un sesgo positivo, el cual se verifica con el resultado obtenido al usar `.skew()`. También, se observa que la moda es igual a 0 pero en la gráfica se ve que es unimodal, este comportamiento se debe a que no existen datos que se repitan en la muestra por lo que no hay datos con frecuencia mayor a 1 y se refleja en una moda igual a 0. La forma unimodal del gráfico se debe a la gran cantidad de datos que se encuentran en ese rango de valores pero no porque alguno de esto tenga una frecuencia mayor a la de los demás.\n",
        "\n",
        "Por último se obtuvieron la mediana y el promedio, se puede apreciar que el valor del promedio supera al de la mediana."
      ],
      "metadata": {
        "id": "7oydM65Nn1Ge"
      }
    },
    {
      "cell_type": "markdown",
      "metadata": {
        "id": "FDCPSLvU_Xg9"
      },
      "source": [
        "# Pregunta 4\n",
        "\n",
        "Considere las 3 ciudades con más conexiones y las 3 ciudades con menos conexiones durante 2020. Compare el consumo por conexión de esas 6 ciudades. ¿Depende esta variable del tamaño de la ciudad? ¿Existen en estas ciudades zonas con consumo inusualmente pequeño o inusualmente grande por conexión?"
      ]
    },
    {
      "cell_type": "markdown",
      "source": [
        "Creamos un nuevo dataframe que contiene las 3 ciudades con más conexiones y las 3 con menos conexiones del año 2020. Luego en otro dataframe, agregamos 3 columnas; `city` que corresponde al nombre de cada ciudad, `num_connections` que es el total de conexiones en una ciudad, valor que sirve como indicador del tamaño de la ciudad y `consume_per_conn` que es el consumo por conexión medio de una ciudad."
      ],
      "metadata": {
        "id": "Lb15jX9TtA3H"
      }
    },
    {
      "cell_type": "code",
      "execution_count": null,
      "metadata": {
        "colab": {
          "base_uri": "https://localhost:8080/",
          "height": 238
        },
        "id": "210DzIjxRK2c",
        "outputId": "107bd848-4e82-4ecf-f5c9-f571d6793ceb"
      },
      "outputs": [
        {
          "output_type": "execute_result",
          "data": {
            "text/plain": [
              "            city  num_connections  consume_per_conn\n",
              "0      AMSTERDAM         526415.0        187.760708\n",
              "1      ROTTERDAM         311305.0        192.727671\n",
              "2  'S-GRAVENHAGE         278058.0        184.798168\n",
              "3      LANGEDIJK             10.0       7109.333333\n",
              "4   NIeuw Vennep             10.0       2640.714286\n",
              "5           RHEE             10.0       1599.660000"
            ],
            "text/html": [
              "\n",
              "  <div id=\"df-a164b28d-a906-4ba4-a0f3-fcea384a311e\">\n",
              "    <div class=\"colab-df-container\">\n",
              "      <div>\n",
              "<style scoped>\n",
              "    .dataframe tbody tr th:only-of-type {\n",
              "        vertical-align: middle;\n",
              "    }\n",
              "\n",
              "    .dataframe tbody tr th {\n",
              "        vertical-align: top;\n",
              "    }\n",
              "\n",
              "    .dataframe thead th {\n",
              "        text-align: right;\n",
              "    }\n",
              "</style>\n",
              "<table border=\"1\" class=\"dataframe\">\n",
              "  <thead>\n",
              "    <tr style=\"text-align: right;\">\n",
              "      <th></th>\n",
              "      <th>city</th>\n",
              "      <th>num_connections</th>\n",
              "      <th>consume_per_conn</th>\n",
              "    </tr>\n",
              "  </thead>\n",
              "  <tbody>\n",
              "    <tr>\n",
              "      <th>0</th>\n",
              "      <td>AMSTERDAM</td>\n",
              "      <td>526415.0</td>\n",
              "      <td>187.760708</td>\n",
              "    </tr>\n",
              "    <tr>\n",
              "      <th>1</th>\n",
              "      <td>ROTTERDAM</td>\n",
              "      <td>311305.0</td>\n",
              "      <td>192.727671</td>\n",
              "    </tr>\n",
              "    <tr>\n",
              "      <th>2</th>\n",
              "      <td>'S-GRAVENHAGE</td>\n",
              "      <td>278058.0</td>\n",
              "      <td>184.798168</td>\n",
              "    </tr>\n",
              "    <tr>\n",
              "      <th>3</th>\n",
              "      <td>LANGEDIJK</td>\n",
              "      <td>10.0</td>\n",
              "      <td>7109.333333</td>\n",
              "    </tr>\n",
              "    <tr>\n",
              "      <th>4</th>\n",
              "      <td>NIeuw Vennep</td>\n",
              "      <td>10.0</td>\n",
              "      <td>2640.714286</td>\n",
              "    </tr>\n",
              "    <tr>\n",
              "      <th>5</th>\n",
              "      <td>RHEE</td>\n",
              "      <td>10.0</td>\n",
              "      <td>1599.660000</td>\n",
              "    </tr>\n",
              "  </tbody>\n",
              "</table>\n",
              "</div>\n",
              "      <button class=\"colab-df-convert\" onclick=\"convertToInteractive('df-a164b28d-a906-4ba4-a0f3-fcea384a311e')\"\n",
              "              title=\"Convert this dataframe to an interactive table.\"\n",
              "              style=\"display:none;\">\n",
              "        \n",
              "  <svg xmlns=\"http://www.w3.org/2000/svg\" height=\"24px\"viewBox=\"0 0 24 24\"\n",
              "       width=\"24px\">\n",
              "    <path d=\"M0 0h24v24H0V0z\" fill=\"none\"/>\n",
              "    <path d=\"M18.56 5.44l.94 2.06.94-2.06 2.06-.94-2.06-.94-.94-2.06-.94 2.06-2.06.94zm-11 1L8.5 8.5l.94-2.06 2.06-.94-2.06-.94L8.5 2.5l-.94 2.06-2.06.94zm10 10l.94 2.06.94-2.06 2.06-.94-2.06-.94-.94-2.06-.94 2.06-2.06.94z\"/><path d=\"M17.41 7.96l-1.37-1.37c-.4-.4-.92-.59-1.43-.59-.52 0-1.04.2-1.43.59L10.3 9.45l-7.72 7.72c-.78.78-.78 2.05 0 2.83L4 21.41c.39.39.9.59 1.41.59.51 0 1.02-.2 1.41-.59l7.78-7.78 2.81-2.81c.8-.78.8-2.07 0-2.86zM5.41 20L4 18.59l7.72-7.72 1.47 1.35L5.41 20z\"/>\n",
              "  </svg>\n",
              "      </button>\n",
              "      \n",
              "  <style>\n",
              "    .colab-df-container {\n",
              "      display:flex;\n",
              "      flex-wrap:wrap;\n",
              "      gap: 12px;\n",
              "    }\n",
              "\n",
              "    .colab-df-convert {\n",
              "      background-color: #E8F0FE;\n",
              "      border: none;\n",
              "      border-radius: 50%;\n",
              "      cursor: pointer;\n",
              "      display: none;\n",
              "      fill: #1967D2;\n",
              "      height: 32px;\n",
              "      padding: 0 0 0 0;\n",
              "      width: 32px;\n",
              "    }\n",
              "\n",
              "    .colab-df-convert:hover {\n",
              "      background-color: #E2EBFA;\n",
              "      box-shadow: 0px 1px 2px rgba(60, 64, 67, 0.3), 0px 1px 3px 1px rgba(60, 64, 67, 0.15);\n",
              "      fill: #174EA6;\n",
              "    }\n",
              "\n",
              "    [theme=dark] .colab-df-convert {\n",
              "      background-color: #3B4455;\n",
              "      fill: #D2E3FC;\n",
              "    }\n",
              "\n",
              "    [theme=dark] .colab-df-convert:hover {\n",
              "      background-color: #434B5C;\n",
              "      box-shadow: 0px 1px 3px 1px rgba(0, 0, 0, 0.15);\n",
              "      filter: drop-shadow(0px 1px 2px rgba(0, 0, 0, 0.3));\n",
              "      fill: #FFFFFF;\n",
              "    }\n",
              "  </style>\n",
              "\n",
              "      <script>\n",
              "        const buttonEl =\n",
              "          document.querySelector('#df-a164b28d-a906-4ba4-a0f3-fcea384a311e button.colab-df-convert');\n",
              "        buttonEl.style.display =\n",
              "          google.colab.kernel.accessAllowed ? 'block' : 'none';\n",
              "\n",
              "        async function convertToInteractive(key) {\n",
              "          const element = document.querySelector('#df-a164b28d-a906-4ba4-a0f3-fcea384a311e');\n",
              "          const dataTable =\n",
              "            await google.colab.kernel.invokeFunction('convertToInteractive',\n",
              "                                                     [key], {});\n",
              "          if (!dataTable) return;\n",
              "\n",
              "          const docLinkHtml = 'Like what you see? Visit the ' +\n",
              "            '<a target=\"_blank\" href=https://colab.research.google.com/notebooks/data_table.ipynb>data table notebook</a>'\n",
              "            + ' to learn more about interactive tables.';\n",
              "          element.innerHTML = '';\n",
              "          dataTable['output_type'] = 'display_data';\n",
              "          await google.colab.output.renderOutput(dataTable, element);\n",
              "          const docLink = document.createElement('div');\n",
              "          docLink.innerHTML = docLinkHtml;\n",
              "          element.appendChild(docLink);\n",
              "        }\n",
              "      </script>\n",
              "    </div>\n",
              "  </div>\n",
              "  "
            ]
          },
          "metadata": {},
          "execution_count": 71
        }
      ],
      "source": [
        "max_cities = df_2020_e.groupby(['city']).sum().sort_values('num_connections',ascending=False).head(3)\n",
        "min_cities = df_2020_e.groupby(['city']).sum().sort_values('num_connections',ascending=False).tail(3)\n",
        "connect = pd.concat([max_cities, min_cities], axis = 0)\n",
        "\n",
        "df_city = pd.DataFrame()\n",
        "df_city['city'] = list(connect.index)\n",
        "df_city['num_connections'] = connect['num_connections'].values\n",
        "\n",
        "consume_means = pd.DataFrame(df_2020_e.groupby(['city'])['consume_per_conn'].mean())\n",
        "consume_means['city'] = consume_means.index\n",
        "\n",
        "list_consume = []\n",
        "for city in list(connect.index):\n",
        "  list_consume.append(float(consume_means.loc[consume_means['city'] == city]['consume_per_conn'].values))\n",
        "\n",
        "df_city['consume_per_conn'] = list_consume\n",
        "df_city"
      ]
    },
    {
      "cell_type": "markdown",
      "source": [
        "En un gráfico de barras múltiples, graficamos y comparamos el consumo por conexión y el número de conexiones de cada ciudad. "
      ],
      "metadata": {
        "id": "MkLFwm8wz6T4"
      }
    },
    {
      "cell_type": "code",
      "execution_count": null,
      "metadata": {
        "colab": {
          "base_uri": "https://localhost:8080/",
          "height": 606
        },
        "id": "Sg3vo9gGe627",
        "outputId": "0a626327-8fe6-4e61-fa0e-fcf65c82eebe"
      },
      "outputs": [
        {
          "output_type": "display_data",
          "data": {
            "text/plain": [
              "<Figure size 1080x720 with 1 Axes>"
            ],
            "image/png": "[encoded data removed]"
          },
          "metadata": {
            "needs_background": "light"
          }
        }
      ],
      "source": [
        "X = df_city['city'].values\n",
        "num_connections = df_city['num_connections'].values\n",
        "consume_per_conn = df_city['consume_per_conn'].values\n",
        "  \n",
        "X_axis = np.arange(len(X))\n",
        "  \n",
        "plt.bar(X_axis - 0.2, num_connections, 0.4, label = 'num_connections')\n",
        "plt.bar(X_axis + 0.2, consume_per_conn, 0.4, label = 'consume_per_conn')\n",
        "  \n",
        "plt.xticks(X_axis, X)\n",
        "plt.xlabel(\"city\")\n",
        "plt.ylabel(\"consume\")\n",
        "plt.legend()\n",
        "plt.show()"
      ]
    },
    {
      "cell_type": "markdown",
      "source": [
        "Como se puede apreciar en el gráfico, las ciudades con más conexiones tienen menor consumo por conexión promedio que las ciudades con menos conexiones, por lo que podemos concluir que en ciudades de mayor tamaño hay un consumo por conexión menor, mientras que en las ciudades de menor tamaño este consumo es mayor."
      ],
      "metadata": {
        "id": "VuEeYlyR0J7P"
      }
    },
    {
      "cell_type": "markdown",
      "source": [
        "Siguiendo con la segunda parte de la pregunta, modelamos a través de un histograma todos los consumos por conexión de cada ciudad."
      ],
      "metadata": {
        "id": "4GtSu-G43P90"
      }
    },
    {
      "cell_type": "code",
      "execution_count": null,
      "metadata": {
        "colab": {
          "base_uri": "https://localhost:8080/",
          "height": 661
        },
        "id": "YQzNUS6H2Xku",
        "outputId": "965a5fb0-fd74-4cef-dc44-5b5a44181953"
      },
      "outputs": [
        {
          "output_type": "stream",
          "name": "stderr",
          "text": [
            "/usr/local/lib/python3.7/dist-packages/matplotlib/cbook/__init__.py:1376: VisibleDeprecationWarning: Creating an ndarray from ragged nested sequences (which is a list-or-tuple of lists-or-tuples-or ndarrays with different lengths or shapes) is deprecated. If you meant to do this, you must specify 'dtype=object' when creating the ndarray.\n",
            "  X = np.atleast_1d(X.T if isinstance(X, np.ndarray) else np.asarray(X))\n"
          ]
        },
        {
          "output_type": "display_data",
          "data": {
            "text/plain": [
              "<Figure size 1080x720 with 1 Axes>"
            ],
            "image/png": "[encoded data removed]"
          },
          "metadata": {
            "needs_background": "light"
          }
        }
      ],
      "source": [
        "cities=[]\n",
        "for index,row in connect.iterrows():\n",
        "  cities.append(index)\n",
        "\n",
        "list_conections = []\n",
        "for city in cities:\n",
        "  list_conections.append(list(df_2020_e.loc[df_2020_e['city'] == city]['consume_per_conn'].values))\n",
        "\n",
        "plt.boxplot(list_conections)\n",
        "plt.xticks([1,2,3,4,5,6], cities)\n",
        "plt.hlines(10, 0.5,6.5, color= 'blue',linestyles='solid', label='Global Minimun')\n",
        "plt.xlabel(\"City\")\n",
        "plt.ylabel(\"Consume per connection\")\n",
        "plt.legend()\n",
        "plt.show()"
      ]
    },
    {
      "cell_type": "markdown",
      "source": [
        "Podemos observar que en las ciudades más grandes hay muchos valores outliers que son inusualmente grandes en comparación a la mediana, mientras que en las ciudades más pequeñas solo se aprecia un dato, que corresponde a la mediana de cada ciudad. También vemos que no existen valores outliers que sean inusualmente pequeños en ninguna de las ciudades."
      ],
      "metadata": {
        "id": "1NvKhfJO3d4z"
      }
    },
    {
      "cell_type": "markdown",
      "metadata": {
        "id": "joN4cwrucJhH"
      },
      "source": [
        "# Pregunta 5\n",
        "\n",
        "¿Cuánta energía auto-generaron los hogares durante 2020? Responda construyendo y describiendo un gráfico que muestre cómo se distribuye la cantidad de energía total consumida por los hogares durante 2020, la cantidad de energía autogenerada ese año, y la fracción de la energía consumida que es autogenerada por los hogares. Comente."
      ]
    },
    {
      "cell_type": "markdown",
      "source": [
        "Para este pregunta decidimos utilizar un gráfico de torta, aunque no sea la mejor manera de representar los datos, es la más adecuada para representar lo que se pide analizar. En el gráfico se ven dos secciones; `net_annual_cons` que corresponde a la energía consumida que es distribuida por las compañías y `self_production` que es la energía autoproducida por los hogares, la suma de estos valores corresponde al consumo anual en 2020."
      ],
      "metadata": {
        "id": "_A1zXQX5DK5_"
      }
    },
    {
      "cell_type": "code",
      "source": [
        "df_2020_e.groupby(['year'])['self_production', 'net_annual_cons'].sum().transpose().plot.pie(subplots=True, figsize=(11, 6))\n",
        "plt.show()"
      ],
      "metadata": {
        "colab": {
          "base_uri": "https://localhost:8080/",
          "height": 412
        },
        "id": "pxN8MY6V1G7s",
        "outputId": "93d77d1b-7681-4e8d-8d23-86611f148f9f"
      },
      "execution_count": null,
      "outputs": [
        {
          "output_type": "stream",
          "name": "stderr",
          "text": [
            "/usr/local/lib/python3.7/dist-packages/ipykernel_launcher.py:1: FutureWarning: Indexing with multiple keys (implicitly converted to a tuple of keys) will be deprecated, use a list instead.\n",
            "  \"\"\"Entry point for launching an IPython kernel.\n"
          ]
        },
        {
          "output_type": "display_data",
          "data": {
            "text/plain": [
              "<Figure size 792x432 with 1 Axes>"
            ],
            "image/png": "[encoded data removed]"
          },
          "metadata": {}
        }
      ]
    },
    {
      "cell_type": "markdown",
      "source": [
        "En el gráfico de torta podemos ver la fracción de la energía consumida que corresponde a energía autoproducida, además podemos ver que no representa una gran parte de lo que se consumió en 2020."
      ],
      "metadata": {
        "id": "nQuJzHqP9vj_"
      }
    },
    {
      "cell_type": "markdown",
      "metadata": {
        "id": "4PugU1b58zk8"
      },
      "source": [
        "# Pregunta 6\n",
        "\n",
        "Considere las 3 ciudades con más conexiones y las 3 ciudades con menos conexiones durante 2020. Compare la distribución de la cantidad de energía auto-generada en esas 6 ciudades. ¿Depende esta variable del tamaño de la ciudad? ¿Existen en estas ciudades zonas con consumo auto-generado inusualmente pequeño o inusualmente grande?"
      ]
    },
    {
      "cell_type": "markdown",
      "source": [
        "Creamos un nuevo dataframe que contiene las 3 ciudades con más conexiones y las 3 con menos conexiones del año 2020. Luego en otro dataframe, agregamos 3 columnas; `city` que corresponde al nombre de cada ciudad, `num_connections` que es el total de conexiones en una ciudad, valor que sirve como indicador del tamaño de la ciudad y `self_production` que es la energía autoproducida total de la ciudad."
      ],
      "metadata": {
        "id": "goxfSMtkimIF"
      }
    },
    {
      "cell_type": "code",
      "execution_count": null,
      "metadata": {
        "colab": {
          "base_uri": "https://localhost:8080/",
          "height": 269
        },
        "id": "RYwiojixt6Mx",
        "outputId": "72cb4c6b-cbd4-43ff-ad75-12173b252be8"
      },
      "outputs": [
        {
          "output_type": "execute_result",
          "data": {
            "text/plain": [
              "               num_connections  self_production\n",
              "city                                           \n",
              "AMSTERDAM             526415.0     1.451577e+06\n",
              "ROTTERDAM             311305.0     1.058607e+06\n",
              "'S-GRAVENHAGE         278058.0     1.602601e+06\n",
              "LANGEDIJK                 10.0     0.000000e+00\n",
              "NIeuw Vennep              10.0     0.000000e+00\n",
              "RHEE                      10.0     1.599660e+03"
            ],
            "text/html": [
              "\n",
              "  <div id=\"df-4b0c2160-38fe-4725-85e7-bb57e4aa77b7\">\n",
              "    <div class=\"colab-df-container\">\n",
              "      <div>\n",
              "<style scoped>\n",
              "    .dataframe tbody tr th:only-of-type {\n",
              "        vertical-align: middle;\n",
              "    }\n",
              "\n",
              "    .dataframe tbody tr th {\n",
              "        vertical-align: top;\n",
              "    }\n",
              "\n",
              "    .dataframe thead th {\n",
              "        text-align: right;\n",
              "    }\n",
              "</style>\n",
              "<table border=\"1\" class=\"dataframe\">\n",
              "  <thead>\n",
              "    <tr style=\"text-align: right;\">\n",
              "      <th></th>\n",
              "      <th>num_connections</th>\n",
              "      <th>self_production</th>\n",
              "    </tr>\n",
              "    <tr>\n",
              "      <th>city</th>\n",
              "      <th></th>\n",
              "      <th></th>\n",
              "    </tr>\n",
              "  </thead>\n",
              "  <tbody>\n",
              "    <tr>\n",
              "      <th>AMSTERDAM</th>\n",
              "      <td>526415.0</td>\n",
              "      <td>1.451577e+06</td>\n",
              "    </tr>\n",
              "    <tr>\n",
              "      <th>ROTTERDAM</th>\n",
              "      <td>311305.0</td>\n",
              "      <td>1.058607e+06</td>\n",
              "    </tr>\n",
              "    <tr>\n",
              "      <th>'S-GRAVENHAGE</th>\n",
              "      <td>278058.0</td>\n",
              "      <td>1.602601e+06</td>\n",
              "    </tr>\n",
              "    <tr>\n",
              "      <th>LANGEDIJK</th>\n",
              "      <td>10.0</td>\n",
              "      <td>0.000000e+00</td>\n",
              "    </tr>\n",
              "    <tr>\n",
              "      <th>NIeuw Vennep</th>\n",
              "      <td>10.0</td>\n",
              "      <td>0.000000e+00</td>\n",
              "    </tr>\n",
              "    <tr>\n",
              "      <th>RHEE</th>\n",
              "      <td>10.0</td>\n",
              "      <td>1.599660e+03</td>\n",
              "    </tr>\n",
              "  </tbody>\n",
              "</table>\n",
              "</div>\n",
              "      <button class=\"colab-df-convert\" onclick=\"convertToInteractive('df-4b0c2160-38fe-4725-85e7-bb57e4aa77b7')\"\n",
              "              title=\"Convert this dataframe to an interactive table.\"\n",
              "              style=\"display:none;\">\n",
              "        \n",
              "  <svg xmlns=\"http://www.w3.org/2000/svg\" height=\"24px\"viewBox=\"0 0 24 24\"\n",
              "       width=\"24px\">\n",
              "    <path d=\"M0 0h24v24H0V0z\" fill=\"none\"/>\n",
              "    <path d=\"M18.56 5.44l.94 2.06.94-2.06 2.06-.94-2.06-.94-.94-2.06-.94 2.06-2.06.94zm-11 1L8.5 8.5l.94-2.06 2.06-.94-2.06-.94L8.5 2.5l-.94 2.06-2.06.94zm10 10l.94 2.06.94-2.06 2.06-.94-2.06-.94-.94-2.06-.94 2.06-2.06.94z\"/><path d=\"M17.41 7.96l-1.37-1.37c-.4-.4-.92-.59-1.43-.59-.52 0-1.04.2-1.43.59L10.3 9.45l-7.72 7.72c-.78.78-.78 2.05 0 2.83L4 21.41c.39.39.9.59 1.41.59.51 0 1.02-.2 1.41-.59l7.78-7.78 2.81-2.81c.8-.78.8-2.07 0-2.86zM5.41 20L4 18.59l7.72-7.72 1.47 1.35L5.41 20z\"/>\n",
              "  </svg>\n",
              "      </button>\n",
              "      \n",
              "  <style>\n",
              "    .colab-df-container {\n",
              "      display:flex;\n",
              "      flex-wrap:wrap;\n",
              "      gap: 12px;\n",
              "    }\n",
              "\n",
              "    .colab-df-convert {\n",
              "      background-color: #E8F0FE;\n",
              "      border: none;\n",
              "      border-radius: 50%;\n",
              "      cursor: pointer;\n",
              "      display: none;\n",
              "      fill: #1967D2;\n",
              "      height: 32px;\n",
              "      padding: 0 0 0 0;\n",
              "      width: 32px;\n",
              "    }\n",
              "\n",
              "    .colab-df-convert:hover {\n",
              "      background-color: #E2EBFA;\n",
              "      box-shadow: 0px 1px 2px rgba(60, 64, 67, 0.3), 0px 1px 3px 1px rgba(60, 64, 67, 0.15);\n",
              "      fill: #174EA6;\n",
              "    }\n",
              "\n",
              "    [theme=dark] .colab-df-convert {\n",
              "      background-color: #3B4455;\n",
              "      fill: #D2E3FC;\n",
              "    }\n",
              "\n",
              "    [theme=dark] .colab-df-convert:hover {\n",
              "      background-color: #434B5C;\n",
              "      box-shadow: 0px 1px 3px 1px rgba(0, 0, 0, 0.15);\n",
              "      filter: drop-shadow(0px 1px 2px rgba(0, 0, 0, 0.3));\n",
              "      fill: #FFFFFF;\n",
              "    }\n",
              "  </style>\n",
              "\n",
              "      <script>\n",
              "        const buttonEl =\n",
              "          document.querySelector('#df-4b0c2160-38fe-4725-85e7-bb57e4aa77b7 button.colab-df-convert');\n",
              "        buttonEl.style.display =\n",
              "          google.colab.kernel.accessAllowed ? 'block' : 'none';\n",
              "\n",
              "        async function convertToInteractive(key) {\n",
              "          const element = document.querySelector('#df-4b0c2160-38fe-4725-85e7-bb57e4aa77b7');\n",
              "          const dataTable =\n",
              "            await google.colab.kernel.invokeFunction('convertToInteractive',\n",
              "                                                     [key], {});\n",
              "          if (!dataTable) return;\n",
              "\n",
              "          const docLinkHtml = 'Like what you see? Visit the ' +\n",
              "            '<a target=\"_blank\" href=https://colab.research.google.com/notebooks/data_table.ipynb>data table notebook</a>'\n",
              "            + ' to learn more about interactive tables.';\n",
              "          element.innerHTML = '';\n",
              "          dataTable['output_type'] = 'display_data';\n",
              "          await google.colab.output.renderOutput(dataTable, element);\n",
              "          const docLink = document.createElement('div');\n",
              "          docLink.innerHTML = docLinkHtml;\n",
              "          element.appendChild(docLink);\n",
              "        }\n",
              "      </script>\n",
              "    </div>\n",
              "  </div>\n",
              "  "
            ]
          },
          "metadata": {},
          "execution_count": 75
        }
      ],
      "source": [
        "max_cities = df_2020_e.groupby(['city']).sum().sort_values('num_connections',ascending=False).head(3)\n",
        "min_cities = df_2020_e.groupby(['city']).sum().sort_values('num_connections',ascending=False).tail(3)\n",
        "connect = pd.concat([max_cities, min_cities], axis = 0)[['num_connections','self_production']]\n",
        "connect"
      ]
    },
    {
      "cell_type": "markdown",
      "source": [
        "En un gráfico de barras múltiples, graficamos y comparamos la energia autoproducida y el número de conexiones de cada ciudad. "
      ],
      "metadata": {
        "id": "BFkjHWj4itZC"
      }
    },
    {
      "cell_type": "code",
      "source": [
        "cities=[]\n",
        "for index,row in connect.iterrows():\n",
        "  cities.append(index)\n",
        "\n",
        "X = cities\n",
        "num_connections = connect['num_connections'].values\n",
        "consume_per_conn = connect['self_production'].values\n",
        "\n",
        "X_axis = np.arange(len(X))\n",
        "  \n",
        "plt.bar(X_axis - 0.2, num_connections, 0.4, label = 'num_connections')\n",
        "plt.bar(X_axis + 0.2, consume_per_conn, 0.4, label = 'self_production')\n",
        "\n",
        "plt.xticks(X_axis, X)\n",
        "plt.xlabel(\"city\")\n",
        "plt.ylabel(\"autoproduccion\")\n",
        "plt.legend()\n",
        "plt.show()"
      ],
      "metadata": {
        "id": "CkgHo-FrivMZ",
        "colab": {
          "base_uri": "https://localhost:8080/",
          "height": 616
        },
        "outputId": "14e7206a-8866-45dc-ef07-7e5acc6e1bc0"
      },
      "execution_count": null,
      "outputs": [
        {
          "output_type": "display_data",
          "data": {
            "text/plain": [
              "<Figure size 1080x720 with 1 Axes>"
            ],
            "image/png": "[encoded data removed]"
          },
          "metadata": {
            "needs_background": "light"
          }
        }
      ]
    },
    {
      "cell_type": "markdown",
      "source": [
        "Como se puede apreciar en el gráfico, las ciudades con más conexiones tienen mayor energia autoproducida que las ciudades con menos conexiones, por lo que podemos concluir que en ciudades de mayor tamaño autogeneran mas energia que las pequeñas."
      ],
      "metadata": {
        "id": "Hwv9Zq3Ji2NT"
      }
    },
    {
      "cell_type": "markdown",
      "source": [
        "Siguiendo con la segunda parte de la pregunta, modelamos a través de un boxplot la energía autoproducida en cada ciudad."
      ],
      "metadata": {
        "id": "fIF6gB15i4mH"
      }
    },
    {
      "cell_type": "code",
      "source": [
        "list_conections = []\n",
        "for city in cities:\n",
        "  list_conections.append(list(df_2020_e.loc[df_2020_e['city']==city]['self_production'].values))\n",
        "\n",
        "plt.boxplot(list_conections)\n",
        "plt.xticks([1,2,3,4,5,6],cities)\n",
        "plt.xlabel(\"City\")\n",
        "plt.ylabel(\"Autoproduccion\")\n",
        "plt.show()"
      ],
      "metadata": {
        "id": "bIFpIcz6i6aV",
        "colab": {
          "base_uri": "https://localhost:8080/",
          "height": 661
        },
        "outputId": "418fce62-c664-4d67-da9b-90cd48d015a1"
      },
      "execution_count": null,
      "outputs": [
        {
          "output_type": "stream",
          "name": "stderr",
          "text": [
            "/usr/local/lib/python3.7/dist-packages/matplotlib/cbook/__init__.py:1376: VisibleDeprecationWarning: Creating an ndarray from ragged nested sequences (which is a list-or-tuple of lists-or-tuples-or ndarrays with different lengths or shapes) is deprecated. If you meant to do this, you must specify 'dtype=object' when creating the ndarray.\n",
            "  X = np.atleast_1d(X.T if isinstance(X, np.ndarray) else np.asarray(X))\n"
          ]
        },
        {
          "output_type": "display_data",
          "data": {
            "text/plain": [
              "<Figure size 1080x720 with 1 Axes>"
            ],
            "image/png": "[encoded data removed]"
          },
          "metadata": {
            "needs_background": "light"
          }
        }
      ]
    },
    {
      "cell_type": "markdown",
      "source": [
        "Podemos observar que en las ciudades más grandes hay muchos valores outliers que son inusualmente grandes en comparación a la mediana, mientras que en las ciudades más pequeñas solo se aprecia un dato, que corresponde a la mediana de cada ciudad. También vemos que no existen valores outliers que sean inusualmente pequeños en ninguna de las ciudades."
      ],
      "metadata": {
        "id": "xMSvS4Wsi9Ya"
      }
    },
    {
      "cell_type": "markdown",
      "metadata": {
        "id": "AOvWapJkHYUO"
      },
      "source": [
        "# Pregunta 7\n",
        "\n",
        "¿Existe una relación entre el consumo anual y la cantidad de conexiones de una ciudad? ¿Entre el consumo anual y la cantidad de energía auto-generada en la ciudad?"
      ]
    },
    {
      "cell_type": "markdown",
      "source": [
        "Lo primero que hicimos fue agrupar los datos de electricidad del año 2020 por la ciudad en un nuevo dataframe, e hicimos un gráfico de puntos para ver la relación entre los datos."
      ],
      "metadata": {
        "id": "7gIonApll2hm"
      }
    },
    {
      "cell_type": "code",
      "source": [
        "df_ams = df_2020_e.groupby(['city','year']).sum()\n",
        "fig, ax = plt.subplots()\n",
        "ax.scatter(df_ams['annual_consume'].values, df_ams['num_connections'].values)\n",
        "plt.show()"
      ],
      "metadata": {
        "id": "olonzBZoXxrN",
        "colab": {
          "base_uri": "https://localhost:8080/",
          "height": 605
        },
        "outputId": "e25fb9de-96f4-478f-8e57-03977126ffba"
      },
      "execution_count": null,
      "outputs": [
        {
          "output_type": "display_data",
          "data": {
            "text/plain": [
              "<Figure size 1080x720 with 1 Axes>"
            ],
            "image/png": "[encoded data removed]"
          },
          "metadata": {
            "needs_background": "light"
          }
        }
      ]
    },
    {
      "cell_type": "markdown",
      "source": [
        "En este gráfico se puede observar que la relación entre el consumo y el numero de conexiones va en aumento."
      ],
      "metadata": {
        "id": "juwd6iQjq9nO"
      }
    },
    {
      "cell_type": "markdown",
      "source": [
        "Con el dataframe hecho anteriormente, hicimos otro gráfico de puntos para ver la relación entre el consumo anual y la autoproducción."
      ],
      "metadata": {
        "id": "tV1QiqMSq_57"
      }
    },
    {
      "cell_type": "code",
      "source": [
        "fig, ax = plt.subplots()\n",
        "ax.scatter(df_ams['annual_consume'].values, df_ams['self_production'].values)\n",
        "plt.show()"
      ],
      "metadata": {
        "id": "Mj-UaQ757RmX",
        "colab": {
          "base_uri": "https://localhost:8080/",
          "height": 616
        },
        "outputId": "9dccb17c-0139-4408-b82b-ce938d5598de"
      },
      "execution_count": null,
      "outputs": [
        {
          "output_type": "display_data",
          "data": {
            "text/plain": [
              "<Figure size 1080x720 with 1 Axes>"
            ],
            "image/png": "[encoded data removed]"
          },
          "metadata": {
            "needs_background": "light"
          }
        }
      ]
    },
    {
      "cell_type": "markdown",
      "source": [
        "En este gráfico se puede observar una relación que va en aumento constante y parece tener una tendencia logarítmica."
      ],
      "metadata": {
        "id": "UDsrLpkyrDRe"
      }
    },
    {
      "cell_type": "markdown",
      "metadata": {
        "id": "njecl46MHdBK"
      },
      "source": [
        "# Pregunta 8\n",
        "\n",
        "¿Está aumentado el consumo de gas en el país? ¿El consumo de electricidad? ¿Está aumentando o disminuyendo más un tipo de consumo que otro? Para abordar esta pregunta, desagregue los datos por año y ciudad, presentando gráficos que permitan comparar fácilmente tanto tendencia como dispersión. Limítese a estudiar lo que sucede en las 10 ciudades con más conexiones. Comente lo que observa."
      ]
    },
    {
      "cell_type": "markdown",
      "source": [
        "Para responder esta pregunta consideramos, por cada año, las 10 ciudades con mayor cantidad de conexiones, las cuales ocupamos para ver el consumo anual de cada año representado en el gráfico a continuación. Junto a este calculamos la desviación estándar y el promedio del consumo anual."
      ],
      "metadata": {
        "id": "-zhotleGM0MT"
      }
    },
    {
      "cell_type": "code",
      "source": [
        "df_g8=pd.DataFrame()\n",
        "for year in df_gas['year'].unique():\n",
        "  df_g8=pd.concat([df_gas.loc[df_gas['year'] == year].sort_values('num_connections', ascending=False).head(10), df_g8], axis = 0)\n",
        "df_g8.groupby(['year']).sum()['annual_consume'].plot(kind='bar',legend='Reverse')\n",
        "plt.show()\n",
        "print('\\nDesviación estándar: ', round(df_g8['annual_consume'].std(), 2))\n",
        "print('Media: ', round(df_g8['annual_consume'].mean(), 2))"
      ],
      "metadata": {
        "id": "kfWq03Co2GlC",
        "colab": {
          "base_uri": "https://localhost:8080/",
          "height": 673
        },
        "outputId": "50db3c70-9226-4005-fa0d-23e5e3452dbc"
      },
      "execution_count": null,
      "outputs": [
        {
          "output_type": "display_data",
          "data": {
            "text/plain": [
              "<Figure size 1080x720 with 1 Axes>"
            ],
            "image/png": "[encoded data removed]"
          },
          "metadata": {
            "needs_background": "light"
          }
        },
        {
          "output_type": "stream",
          "name": "stdout",
          "text": [
            "\n",
            "Desviación estándar:  498.99\n",
            "Media:  663.79\n"
          ]
        }
      ]
    },
    {
      "cell_type": "markdown",
      "source": [
        "Como se puede observar en el gráfico, la cantidad de energía consumida a través de los años aumentó durante un periodo de tiempo para luego bajar y volver a un valor parecido al inicial."
      ],
      "metadata": {
        "id": "ODTjr1BDM33O"
      }
    },
    {
      "cell_type": "markdown",
      "source": [
        "Usamos la misma estrategia para la electricidad."
      ],
      "metadata": {
        "id": "L2PCoErRM58S"
      }
    },
    {
      "cell_type": "code",
      "source": [
        "df_e8=pd.DataFrame()\n",
        "for year in df_electricity['year'].unique():\n",
        "  df_e8=pd.concat([df_electricity.loc[df_electricity['year'] == year].sort_values('num_connections', ascending=False).head(10),df_e8], axis = 0)\n",
        "df_e8.groupby(['year']).sum()['annual_consume'].plot(kind='bar',legend='Reverse')\n",
        "plt.show()\n",
        "print('\\nDesviación estándar: ', round(df_e8['annual_consume'].std(), 2))\n",
        "print('Media: ', round(df_e8['annual_consume'].mean(), 2))"
      ],
      "metadata": {
        "id": "cgFSUfWe6CE8",
        "colab": {
          "base_uri": "https://localhost:8080/",
          "height": 673
        },
        "outputId": "359d008f-3762-484f-c0dd-6d1d68750d91"
      },
      "execution_count": null,
      "outputs": [
        {
          "output_type": "display_data",
          "data": {
            "text/plain": [
              "<Figure size 1080x720 with 1 Axes>"
            ],
            "image/png": "[encoded data removed]"
          },
          "metadata": {
            "needs_background": "light"
          }
        },
        {
          "output_type": "stream",
          "name": "stdout",
          "text": [
            "\n",
            "Desviación estándar:  839.69\n",
            "Media:  2739.0\n"
          ]
        }
      ]
    },
    {
      "cell_type": "markdown",
      "source": [
        "En este gráfico se puede ver que el consumo de electricidad es más variable comparado con el del gas. Sin embargo, en el último año vemos un comportamiento similar al del gas, pues tiene un valor muy similar al inicial."
      ],
      "metadata": {
        "id": "PAuMY1eZM94Y"
      }
    },
    {
      "cell_type": "markdown",
      "metadata": {
        "id": "UGMIVq60HgMG"
      },
      "source": [
        "#Pregunta 9\n",
        "\n",
        "¿Está aumentado la cantidad de energía auto-generada en el país? Para abordar esta pregunta, desagregue los datos por año y ciudad, presentando gráficos que permitan comparar fácilmente tanto tendencia como dispersión. Limítese a estudiar lo que sucede en las 10 ciudades con más conexiones. Comente lo que observa."
      ]
    },
    {
      "cell_type": "markdown",
      "source": [
        "Para responder esta pregunta consideramos, por cada año, las 10 ciudades con mayor cantidad de conexiones eléctricas, las cuales ocupamos para ver el consumo anual de cada año representado en el gráfico a continuación. Junto a este calculamos la desviación estándar y el promedio de la autoproducción."
      ],
      "metadata": {
        "id": "E69kgjUgQSZ-"
      }
    },
    {
      "cell_type": "code",
      "source": [
        "df_e9=pd.DataFrame()\n",
        "for year in df_electricity['year'].unique():\n",
        "  df_e9=pd.concat([df_electricity.loc[df_electricity['year'] == year].sort_values('num_connections', ascending=False).head(10),df_e9], axis = 0)\n",
        "df_e9.groupby(['year']).sum()['self_production'].plot(kind='bar',legend='Reverse')\n",
        "plt.show()\n",
        "\n",
        "print('\\nDesviación estándar: ', round(df_e9['self_production'].std(), 2))\n",
        "print('Media: ', round(df_e9['self_production'].mean(), 2))"
      ],
      "metadata": {
        "id": "PZoWkgvoFE5k",
        "colab": {
          "base_uri": "https://localhost:8080/",
          "height": 673
        },
        "outputId": "7214a991-6f02-46a2-b545-1509b927b829"
      },
      "execution_count": null,
      "outputs": [
        {
          "output_type": "display_data",
          "data": {
            "text/plain": [
              "<Figure size 1080x720 with 1 Axes>"
            ],
            "image/png": "[encoded data removed]"
          },
          "metadata": {
            "needs_background": "light"
          }
        },
        {
          "output_type": "stream",
          "name": "stdout",
          "text": [
            "\n",
            "Desviación estándar:  9.06\n",
            "Media:  3.33\n"
          ]
        }
      ]
    },
    {
      "cell_type": "markdown",
      "source": [
        "Aquí se puede ver un aumento considerable en la autoproducción entre los años 2014 y 2019 pero sufrió una caída estrepitosa en 2020."
      ],
      "metadata": {
        "id": "uyUuP2u5QUzt"
      }
    },
    {
      "cell_type": "markdown",
      "metadata": {
        "id": "VLLaRLOCHij0"
      },
      "source": [
        "#Pregunta 10\n",
        "\n",
        "Proponga y desarrolle un análisis libre que no haya sido cubierto y que esté relacionada al objetivo del cliente (saber en qué empresas o ciudades o tipos de conexion invertir). Resuma también las principales conclusiones del estudio.\n",
        "\n",
        "De los tipos de conexiones que hay principalmente en el año 2020, ¿Cuál de estos presenta un mayor consumo? Presente medidas de tendencia central\n",
        "\n"
      ]
    },
    {
      "cell_type": "markdown",
      "source": [
        "Creamos un gráfico que se basa en la comparación de cantidades entre los `type_of_connection`, por la sumatoria de los `num_connections` en cada tipo de conexión."
      ],
      "metadata": {
        "id": "fJyv4YNV_KfL"
      }
    },
    {
      "cell_type": "code",
      "source": [
        "df_2020_e.groupby('type_of_connection')['num_connections'].sum().plot(kind='bar',legend='Reverse')\n",
        "plt.show()"
      ],
      "metadata": {
        "colab": {
          "base_uri": "https://localhost:8080/",
          "height": 632
        },
        "id": "1eVTdHLyGYvM",
        "outputId": "6fb2a0ae-3d78-48cf-b0e9-44849c6d1d3b"
      },
      "execution_count": null,
      "outputs": [
        {
          "output_type": "display_data",
          "data": {
            "text/plain": [
              "<Figure size 1080x720 with 1 Axes>"
            ],
            "image/png": "[encoded data removed]"
          },
          "metadata": {
            "needs_background": "light"
          }
        }
      ]
    },
    {
      "cell_type": "markdown",
      "source": [
        "Al analizar el gráfico, observamos que la mayoría (moda) de tipos de conexión pertenece a la conexión 1x35, dándonos a entender que la población opta y accede a las conexiones de tipo 1x35.\n",
        "Después creamos otro gráfico en donde comparamos las cantidades de `annual_consume` según cada `type_of_connection`."
      ],
      "metadata": {
        "id": "XoQbJ_Gdv3Ny"
      }
    },
    {
      "cell_type": "code",
      "source": [
        "df_2020_e.groupby('type_of_connection')['annual_consume'].sum().plot(kind='bar',legend='Reverse')\n",
        "plt.show()"
      ],
      "metadata": {
        "colab": {
          "base_uri": "https://localhost:8080/",
          "height": 632
        },
        "id": "EfNtPSYDAOXe",
        "outputId": "3230ae41-8cb9-42d1-b1df-a17bb046862b"
      },
      "execution_count": null,
      "outputs": [
        {
          "output_type": "display_data",
          "data": {
            "text/plain": [
              "<Figure size 1080x720 with 1 Axes>"
            ],
            "image/png": "[encoded data removed]"
          },
          "metadata": {
            "needs_background": "light"
          }
        }
      ]
    },
    {
      "cell_type": "markdown",
      "source": [
        "Al analizar este gráfico, observamos como la mayoría (moda) de la energía consumida pertenece al tipo 3x25, nos da a conocer que es el tipo de conexión más demandanda aunque no sea el tipo de conexión con más número de conexiones según el primer gráfico.\n",
        "\n",
        "Concluyendo con todos nuestros análisis, podemos decir que las ciudades más demandadas en energía eléctrica y gas son Amsterdam, 'S-Gravenhage y Rotterdam, también podemos mencionar que tienen el mayor número de conexiones entre otras ciudades, pero sus conexiones tienen los consumos más bajos, y contienen los mayores números de energía auto-generada del país. Las empresas más competidoras son Liander y Enexis. Con los pasos de los años, el consumo de energía eléctrica y de gas han variado, pero tienden a mantenerse constantes, y la energía auto-generada aumenta considerablemente pero en el último tiempo sufrió una caída.\n",
        "\n",
        "Nuestro consejo es que invierta en la empresa Liander, ya que realiza servicios en la ciudad Amterdam, aunque esta ciudad tiene energia auto-generada, aun no es predominante, y realice inversiones en el tipo de conexión 3x25."
      ],
      "metadata": {
        "id": "ff3QJjCg_PDr"
      }
    }
  ],
  "metadata": {
    "colab": {
      "collapsed_sections": [],
      "name": "Taller1_INF280_I_2022_Los_NFT.ipynb",
      "provenance": [],
      "include_colab_link": true
    },
    "kernelspec": {
      "display_name": "Python 3",
      "name": "python3"
    },
    "language_info": {
      "name": "python"
    }
  },
  "nbformat": 4,
  "nbformat_minor": 0
}